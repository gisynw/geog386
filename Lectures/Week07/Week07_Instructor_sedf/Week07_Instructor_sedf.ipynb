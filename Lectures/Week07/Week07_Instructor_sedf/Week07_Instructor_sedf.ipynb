{
 "cells": [
  {
   "cell_type": "markdown",
   "metadata": {},
   "source": [
    "# Arcpy"
   ]
  },
  {
   "cell_type": "markdown",
   "metadata": {},
   "source": [
    "- Comes with ArcGIS Desktop (ArcMap) and ArcGIS Pro.\n",
    "- Designed for geoprocessing, spatial analysis, and automation within ArcGIS.\n",
    "- Requires a licensed ArcGIS installation to run.\n",
    "- Used mainly for working with local GIS data (e.g., shapefiles, geodatabases)."
   ]
  },
  {
   "cell_type": "markdown",
   "metadata": {},
   "source": [
    "## Arcpy Modules"
   ]
  },
  {
   "cell_type": "markdown",
   "metadata": {},
   "source": [
    " In ArcPy, functionality is organized into [modules](https://pro.arcgis.com/en/pro-app/latest/arcpy/main/arcgis-pro-arcpy-reference.htm)\n",
    "\n",
    " What is the [Data Access module](https://pro.arcgis.com/en/pro-app/latest/arcpy/data-access/what-is-the-data-access-module-.htm)"
   ]
  },
  {
   "cell_type": "code",
   "execution_count": 5,
   "metadata": {},
   "outputs": [],
   "source": [
    "import pandas as pd\n",
    "from arcgis import GIS\n",
    "import arcpy"
   ]
  },
  {
   "cell_type": "code",
   "execution_count": 2,
   "metadata": {},
   "outputs": [
    {
     "data": {
      "application/vnd.jupyter.widget-view+json": {
       "model_id": "b2139f9b5ca846bd8e247ff293f0f3b0",
       "version_major": 2,
       "version_minor": 1
      },
      "text/plain": [
       "Map(center=[4778944.360468395, -11066784.785637997], extent={'xmin': -16196386.92139204, 'ymin': -745449.92509…"
      ]
     },
     "execution_count": 2,
     "metadata": {},
     "output_type": "execute_result"
    }
   ],
   "source": [
    "gis = GIS()\n",
    "basemap = gis.map('USA')\n",
    "basemap.zoom = 4\n",
    "basemap"
   ]
  },
  {
   "cell_type": "markdown",
   "metadata": {},
   "source": [
    "## Exercise 01: Change Focus Area\n",
    "\n",
    "Add city before US"
   ]
  },
  {
   "cell_type": "code",
   "execution_count": 3,
   "metadata": {},
   "outputs": [
    {
     "data": {
      "application/vnd.jupyter.widget-view+json": {
       "model_id": "38db2827c06a4645a8e5a7d573cdaa83",
       "version_major": 2,
       "version_minor": 1
      },
      "text/plain": [
       "Map(center=[5200324.6174243605, -7992988.638769131], extent={'xmin': -8001114.96159704, 'ymin': 5189350.575127…"
      ]
     },
     "execution_count": 3,
     "metadata": {},
     "output_type": "execute_result"
    }
   ],
   "source": [
    "gis = GIS()\n",
    "basemap = gis.map('Worcester, USA')\n",
    "basemap.zoom = 4\n",
    "basemap"
   ]
  },
  {
   "cell_type": "markdown",
   "metadata": {},
   "source": [
    "## Spatial enabled DataFrame\n",
    "\n",
    "The [Spatially enabled DataFrame](https://developers.arcgis.com/python/latest/guide/introduction-to-the-spatially-enabled-dataframe/) adds \"spatial abilities\" into the popular Pandas DataFrame by inserting a custom namespace called spatial. This namespace (also known as accessor) allows us to use Pandas operations on both the non-spatial and spatial columns. With SeDF, you can now easily manipulate geometric and other attribute data."
   ]
  },
  {
   "cell_type": "markdown",
   "metadata": {},
   "source": [
    "### Set up current work directory"
   ]
  },
  {
   "cell_type": "code",
   "execution_count": 6,
   "metadata": {},
   "outputs": [
    {
     "data": {
      "text/plain": [
       "'E:\\\\Clark\\\\Spring2025\\\\Github_Courses\\\\LargeFiles_geog386\\\\docs\\\\Lectures\\\\Week05_arcpy'"
      ]
     },
     "execution_count": 6,
     "metadata": {},
     "output_type": "execute_result"
    }
   ],
   "source": [
    "arcpy.env.workspace = 'E:\\\\Clark\\\\Spring2025\\\\Github_Courses\\\\LargeFiles_geog386\\\\docs\\\\Lectures\\\\Week05_arcpy'\n",
    "arcpy.env.workspace"
   ]
  },
  {
   "cell_type": "markdown",
   "metadata": {},
   "source": [
    "### List files in current work directory\n",
    "\n",
    "[ListFiles](https://pro.arcgis.com/en/pro-app/latest/arcpy/functions/listfiles.htm)"
   ]
  },
  {
   "cell_type": "code",
   "execution_count": 7,
   "metadata": {},
   "outputs": [
    {
     "data": {
      "text/plain": [
       "['2024_Vehicle_Crash.shp', 'zip_Worcester.shp']"
      ]
     },
     "execution_count": 7,
     "metadata": {},
     "output_type": "execute_result"
    }
   ],
   "source": [
    "# List file that end with .shp\n",
    "arcpy.ListFiles('*.shp')"
   ]
  },
  {
   "cell_type": "code",
   "execution_count": 15,
   "metadata": {},
   "outputs": [],
   "source": [
    "sedf = pd.DataFrame.spatial.from_featureclass(\"2024_Vehicle_Crash\")"
   ]
  },
  {
   "cell_type": "code",
   "execution_count": 9,
   "metadata": {},
   "outputs": [
    {
     "data": {
      "text/plain": [
       "pandas.core.frame.DataFrame"
      ]
     },
     "execution_count": 9,
     "metadata": {},
     "output_type": "execute_result"
    }
   ],
   "source": [
    "type(sedf)"
   ]
  },
  {
   "cell_type": "markdown",
   "metadata": {},
   "source": [
    "## Exercise 01: Get first 5 rows from sedf"
   ]
  },
  {
   "cell_type": "code",
   "execution_count": 14,
   "metadata": {},
   "outputs": [
    {
     "data": {
      "text/html": [
       "<div>\n",
       "<style scoped>\n",
       "    .dataframe tbody tr th:only-of-type {\n",
       "        vertical-align: middle;\n",
       "    }\n",
       "\n",
       "    .dataframe tbody tr th {\n",
       "        vertical-align: top;\n",
       "    }\n",
       "\n",
       "    .dataframe thead th {\n",
       "        text-align: right;\n",
       "    }\n",
       "</style>\n",
       "<table border=\"1\" class=\"dataframe\">\n",
       "  <thead>\n",
       "    <tr style=\"text-align: right;\">\n",
       "      <th></th>\n",
       "      <th>FID</th>\n",
       "      <th>OBJECTID</th>\n",
       "      <th>CRASH_NUMB</th>\n",
       "      <th>CITY_TOWN_</th>\n",
       "      <th>CRASH_DATE</th>\n",
       "      <th>CRASH_DA_1</th>\n",
       "      <th>CRASH_STAT</th>\n",
       "      <th>CRASH_SEVE</th>\n",
       "      <th>MAX_INJR_S</th>\n",
       "      <th>NUMB_VEHC</th>\n",
       "      <th>...</th>\n",
       "      <th>DRIVER_VIO</th>\n",
       "      <th>NON_MTRS_3</th>\n",
       "      <th>NON_MTRS_4</th>\n",
       "      <th>NON_MTRS_5</th>\n",
       "      <th>NON_MTRS_6</th>\n",
       "      <th>NON_MTRS_7</th>\n",
       "      <th>NON_MTRS_8</th>\n",
       "      <th>TRAFFIC_CO</th>\n",
       "      <th>SHAPE_1</th>\n",
       "      <th>SHAPE</th>\n",
       "    </tr>\n",
       "  </thead>\n",
       "  <tbody>\n",
       "    <tr>\n",
       "      <th>0</th>\n",
       "      <td>0</td>\n",
       "      <td>5015146</td>\n",
       "      <td>5344998</td>\n",
       "      <td>WORCESTER</td>\n",
       "      <td>01/05/2024</td>\n",
       "      <td>2024-01-05</td>\n",
       "      <td>Open</td>\n",
       "      <td>Property damage only (none injured)</td>\n",
       "      <td>No Apparent Injury (O)</td>\n",
       "      <td>2</td>\n",
       "      <td>...</td>\n",
       "      <td>V1: (90-20-B),(90-7-A),(720 906-B) / V2: (90-9-B)</td>\n",
       "      <td></td>\n",
       "      <td></td>\n",
       "      <td></td>\n",
       "      <td></td>\n",
       "      <td></td>\n",
       "      <td></td>\n",
       "      <td></td>\n",
       "      <td></td>\n",
       "      <td>{\"x\": 175799.5225000009, \"y\": 891002.076600000...</td>\n",
       "    </tr>\n",
       "    <tr>\n",
       "      <th>1</th>\n",
       "      <td>1</td>\n",
       "      <td>5015146</td>\n",
       "      <td>5344998</td>\n",
       "      <td>WORCESTER</td>\n",
       "      <td>01/05/2024</td>\n",
       "      <td>2024-01-05</td>\n",
       "      <td>Open</td>\n",
       "      <td>Property damage only (none injured)</td>\n",
       "      <td>No Apparent Injury (O)</td>\n",
       "      <td>2</td>\n",
       "      <td>...</td>\n",
       "      <td>V1: (90-20-B),(90-7-A),(720 906-B) / V2: (90-9-B)</td>\n",
       "      <td></td>\n",
       "      <td></td>\n",
       "      <td></td>\n",
       "      <td></td>\n",
       "      <td></td>\n",
       "      <td></td>\n",
       "      <td></td>\n",
       "      <td></td>\n",
       "      <td>{\"x\": 175799.5225000009, \"y\": 891002.076600000...</td>\n",
       "    </tr>\n",
       "    <tr>\n",
       "      <th>2</th>\n",
       "      <td>2</td>\n",
       "      <td>5015832</td>\n",
       "      <td>5345091</td>\n",
       "      <td>WORCESTER</td>\n",
       "      <td>01/07/2024</td>\n",
       "      <td>2024-01-07</td>\n",
       "      <td>Open</td>\n",
       "      <td>Property damage only (none injured)</td>\n",
       "      <td>No Apparent Injury (O)</td>\n",
       "      <td>2</td>\n",
       "      <td>...</td>\n",
       "      <td></td>\n",
       "      <td></td>\n",
       "      <td></td>\n",
       "      <td></td>\n",
       "      <td></td>\n",
       "      <td></td>\n",
       "      <td></td>\n",
       "      <td></td>\n",
       "      <td></td>\n",
       "      <td>{\"x\": 175994.68299999833, \"y\": 893358.65329999...</td>\n",
       "    </tr>\n",
       "    <tr>\n",
       "      <th>3</th>\n",
       "      <td>3</td>\n",
       "      <td>5015832</td>\n",
       "      <td>5345091</td>\n",
       "      <td>WORCESTER</td>\n",
       "      <td>01/07/2024</td>\n",
       "      <td>2024-01-07</td>\n",
       "      <td>Open</td>\n",
       "      <td>Property damage only (none injured)</td>\n",
       "      <td>No Apparent Injury (O)</td>\n",
       "      <td>2</td>\n",
       "      <td>...</td>\n",
       "      <td></td>\n",
       "      <td></td>\n",
       "      <td></td>\n",
       "      <td></td>\n",
       "      <td></td>\n",
       "      <td></td>\n",
       "      <td></td>\n",
       "      <td></td>\n",
       "      <td></td>\n",
       "      <td>{\"x\": 175994.68299999833, \"y\": 893358.65329999...</td>\n",
       "    </tr>\n",
       "    <tr>\n",
       "      <th>4</th>\n",
       "      <td>4</td>\n",
       "      <td>5016653</td>\n",
       "      <td>5345778</td>\n",
       "      <td>WORCESTER</td>\n",
       "      <td>01/02/2024</td>\n",
       "      <td>2024-01-02</td>\n",
       "      <td>Open</td>\n",
       "      <td>Property damage only (none injured)</td>\n",
       "      <td>No Apparent Injury (O)</td>\n",
       "      <td>3</td>\n",
       "      <td>...</td>\n",
       "      <td></td>\n",
       "      <td></td>\n",
       "      <td></td>\n",
       "      <td></td>\n",
       "      <td></td>\n",
       "      <td></td>\n",
       "      <td></td>\n",
       "      <td></td>\n",
       "      <td></td>\n",
       "      <td>{\"x\": 175639.38759999722, \"y\": 891405.46480000...</td>\n",
       "    </tr>\n",
       "  </tbody>\n",
       "</table>\n",
       "<p>5 rows × 151 columns</p>\n",
       "</div>"
      ],
      "text/plain": [
       "   FID  OBJECTID  CRASH_NUMB CITY_TOWN_  CRASH_DATE CRASH_DA_1 CRASH_STAT  \\\n",
       "0    0   5015146     5344998  WORCESTER  01/05/2024 2024-01-05       Open   \n",
       "1    1   5015146     5344998  WORCESTER  01/05/2024 2024-01-05       Open   \n",
       "2    2   5015832     5345091  WORCESTER  01/07/2024 2024-01-07       Open   \n",
       "3    3   5015832     5345091  WORCESTER  01/07/2024 2024-01-07       Open   \n",
       "4    4   5016653     5345778  WORCESTER  01/02/2024 2024-01-02       Open   \n",
       "\n",
       "                            CRASH_SEVE              MAX_INJR_S  NUMB_VEHC  \\\n",
       "0  Property damage only (none injured)  No Apparent Injury (O)          2   \n",
       "1  Property damage only (none injured)  No Apparent Injury (O)          2   \n",
       "2  Property damage only (none injured)  No Apparent Injury (O)          2   \n",
       "3  Property damage only (none injured)  No Apparent Injury (O)          2   \n",
       "4  Property damage only (none injured)  No Apparent Injury (O)          3   \n",
       "\n",
       "   ...                                         DRIVER_VIO  NON_MTRS_3  \\\n",
       "0  ...  V1: (90-20-B),(90-7-A),(720 906-B) / V2: (90-9-B)               \n",
       "1  ...  V1: (90-20-B),(90-7-A),(720 906-B) / V2: (90-9-B)               \n",
       "2  ...                                                                  \n",
       "3  ...                                                                  \n",
       "4  ...                                                                  \n",
       "\n",
       "  NON_MTRS_4 NON_MTRS_5 NON_MTRS_6 NON_MTRS_7 NON_MTRS_8 TRAFFIC_CO SHAPE_1  \\\n",
       "0                                                                             \n",
       "1                                                                             \n",
       "2                                                                             \n",
       "3                                                                             \n",
       "4                                                                             \n",
       "\n",
       "                                               SHAPE  \n",
       "0  {\"x\": 175799.5225000009, \"y\": 891002.076600000...  \n",
       "1  {\"x\": 175799.5225000009, \"y\": 891002.076600000...  \n",
       "2  {\"x\": 175994.68299999833, \"y\": 893358.65329999...  \n",
       "3  {\"x\": 175994.68299999833, \"y\": 893358.65329999...  \n",
       "4  {\"x\": 175639.38759999722, \"y\": 891405.46480000...  \n",
       "\n",
       "[5 rows x 151 columns]"
      ]
     },
     "execution_count": 14,
     "metadata": {},
     "output_type": "execute_result"
    }
   ],
   "source": [
    "sedf.head(n = 5)"
   ]
  },
  {
   "cell_type": "markdown",
   "metadata": {},
   "source": [
    "## Visualizaing data with the Spatially Enabled Dataframe"
   ]
  },
  {
   "cell_type": "code",
   "execution_count": 10,
   "metadata": {},
   "outputs": [
    {
     "data": {
      "application/vnd.jupyter.widget-view+json": {
       "model_id": "0e6731e4e7d34781a928a39b7fd4cc06",
       "version_major": 2,
       "version_minor": 1
      },
      "text/plain": [
       "Map(extent={'spatialReference': {'wkid': 26986, 'latestWkid': 26986}, 'xmin': 168938.40630000085, 'ymin': 8845…"
      ]
     },
     "execution_count": 10,
     "metadata": {},
     "output_type": "execute_result"
    }
   ],
   "source": [
    "sedf.spatial.plot()"
   ]
  },
  {
   "cell_type": "markdown",
   "metadata": {},
   "source": [
    "## Exercise: Specify map_widget in plot()\n",
    "\n",
    "You can quickly visualize the points by calling the plot() method off the DataFrame's spatial accessor and passing the map you created above\n",
    "\n",
    "You can use [map_widget](https://developers.arcgis.com/python/latest/api-reference/arcgis.features.toc.html#arcgis.features.GeoAccessor.plot) specify the map to display the data"
   ]
  },
  {
   "cell_type": "code",
   "execution_count": 13,
   "metadata": {},
   "outputs": [
    {
     "name": "stdout",
     "output_type": "stream",
     "text": [
      "\n",
      "\n",
      "        The ``plot`` draws the data on a map. The user can describe in simple terms how to\n",
      "        renderer spatial data using symbol.\n",
      "\n",
      "\n",
      "        ======================      =========================================================\n",
      "        **Explicit Argument**       **Description**\n",
      "        ----------------------      ---------------------------------------------------------\n",
      "        map_widget                  optional ``Map`` object. This is the map to display\n",
      "                                    the data on.\n",
      "        ----------------------      ---------------------------------------------------------\n",
      "        renderer                    optional renderer dataclass. This can be created from the\n",
      "                                    renderers module in the arcgis.map module.\n",
      "        ======================      =========================================================\n",
      "\n",
      "        \n"
     ]
    }
   ],
   "source": [
    "print(sedf.spatial.plot.__doc__)"
   ]
  },
  {
   "cell_type": "code",
   "execution_count": 14,
   "metadata": {},
   "outputs": [
    {
     "name": "stdout",
     "output_type": "stream",
     "text": [
      "    def plot(self, map_widget=None, **kwargs):\n",
      "        \"\"\"\n",
      "\n",
      "        The ``plot`` draws the data on a map. The user can describe in simple terms how to\n",
      "        renderer spatial data using symbol.\n",
      "\n",
      "\n",
      "        ======================      =========================================================\n",
      "        **Explicit Argument**       **Description**\n",
      "        ----------------------      ---------------------------------------------------------\n",
      "        map_widget                  optional ``Map`` object. This is the map to display\n",
      "                                    the data on.\n",
      "        ----------------------      ---------------------------------------------------------\n",
      "        renderer                    optional renderer dataclass. This can be created from the\n",
      "                                    renderers module in the arcgis.map module.\n",
      "        ======================      =========================================================\n",
      "\n",
      "        \"\"\"\n",
      "        from ._viz.mapping import plot\n",
      "\n",
      "        # small helper to consolidate the plotting function\n",
      "        def _plot_map_widget(mp_wdgt):\n",
      "            plot(\n",
      "                df=self._data,\n",
      "                map=mp_wdgt,\n",
      "                name=kwargs.pop(\"name\", \"Feature Collection Layer\"),\n",
      "                renderer=kwargs.pop(\"renderer\", None),\n",
      "                **kwargs,\n",
      "            )\n",
      "\n",
      "        # if the map widget is explicitly defined\n",
      "        if map_widget:\n",
      "            orig_col = copy.deepcopy(self._data.columns)\n",
      "            self._data.columns = [c.replace(\" \", \"_\") for c in self._data.columns]\n",
      "            # plot and be merry\n",
      "            _plot_map_widget(map_widget)\n",
      "            self._data.columns = orig_col\n",
      "            return True\n",
      "\n",
      "        # otherwise, if a map widget is NOT explicitly defined\n",
      "        else:\n",
      "            from arcgis.gis import GIS\n",
      "            from arcgis.env import active_gis\n",
      "\n",
      "            # if a gis is not already created in the session, create an anonymous one\n",
      "            gis = active_gis\n",
      "            if gis is None:\n",
      "                gis = GIS()\n",
      "\n",
      "            # use the GIS to create a map widget\n",
      "            map_widget = gis.map()\n",
      "\n",
      "            # plot the data in the map widget\n",
      "            orig_col = copy.deepcopy(self._data.columns)\n",
      "            self._data.columns = [c.replace(\" \", \"_\") for c in self._data.columns]\n",
      "            _plot_map_widget(map_widget)\n",
      "            self._data.columns = orig_col\n",
      "            # zoom the map widget to the extent of the data\n",
      "            map_widget.extent = {\n",
      "                \"spatialReference\": self._data.spatial.sr,\n",
      "                \"xmin\": self._data.spatial.full_extent[0],\n",
      "                \"ymin\": self._data.spatial.full_extent[1],\n",
      "                \"xmax\": self._data.spatial.full_extent[2],\n",
      "                \"ymax\": self._data.spatial.full_extent[3],\n",
      "            }\n",
      "\n",
      "            # return the map widget so it will be displayed below the cell in Jupyter Notebook\n",
      "            return map_widget\n",
      "\n"
     ]
    }
   ],
   "source": [
    "import inspect\n",
    "print(inspect.getsource(sedf.spatial.plot))"
   ]
  },
  {
   "cell_type": "code",
   "execution_count": 11,
   "metadata": {},
   "outputs": [
    {
     "data": {
      "application/vnd.jupyter.widget-view+json": {
       "model_id": "38db2827c06a4645a8e5a7d573cdaa83",
       "version_major": 2,
       "version_minor": 1
      },
      "text/plain": [
       "Map(center=[-71.80223860000001, 42.262159859526435], extent={'spatialReference': {'latestWkid': 3857, 'wkid': …"
      ]
     },
     "execution_count": 11,
     "metadata": {},
     "output_type": "execute_result"
    }
   ],
   "source": [
    "sedf.spatial.plot(map_widget = basemap, color = 'blue')\n",
    "basemap"
   ]
  },
  {
   "cell_type": "code",
   "execution_count": 17,
   "metadata": {},
   "outputs": [
    {
     "data": {
      "text/html": [
       "<div>\n",
       "<style scoped>\n",
       "    .dataframe tbody tr th:only-of-type {\n",
       "        vertical-align: middle;\n",
       "    }\n",
       "\n",
       "    .dataframe tbody tr th {\n",
       "        vertical-align: top;\n",
       "    }\n",
       "\n",
       "    .dataframe thead th {\n",
       "        text-align: right;\n",
       "    }\n",
       "</style>\n",
       "<table border=\"1\" class=\"dataframe\">\n",
       "  <thead>\n",
       "    <tr style=\"text-align: right;\">\n",
       "      <th></th>\n",
       "      <th>FID</th>\n",
       "      <th>OBJECTID</th>\n",
       "      <th>CRASH_NUMB</th>\n",
       "      <th>CITY_TOWN_</th>\n",
       "      <th>CRASH_DATE</th>\n",
       "      <th>CRASH_DA_1</th>\n",
       "      <th>CRASH_STAT</th>\n",
       "      <th>CRASH_SEVE</th>\n",
       "      <th>MAX_INJR_S</th>\n",
       "      <th>NUMB_VEHC</th>\n",
       "      <th>...</th>\n",
       "      <th>DRIVER_VIO</th>\n",
       "      <th>NON_MTRS_3</th>\n",
       "      <th>NON_MTRS_4</th>\n",
       "      <th>NON_MTRS_5</th>\n",
       "      <th>NON_MTRS_6</th>\n",
       "      <th>NON_MTRS_7</th>\n",
       "      <th>NON_MTRS_8</th>\n",
       "      <th>TRAFFIC_CO</th>\n",
       "      <th>SHAPE_1</th>\n",
       "      <th>SHAPE</th>\n",
       "    </tr>\n",
       "  </thead>\n",
       "  <tbody>\n",
       "    <tr>\n",
       "      <th>0</th>\n",
       "      <td>0</td>\n",
       "      <td>5015146</td>\n",
       "      <td>5344998</td>\n",
       "      <td>WORCESTER</td>\n",
       "      <td>01/05/2024</td>\n",
       "      <td>2024-01-05</td>\n",
       "      <td>Open</td>\n",
       "      <td>Property damage only (none injured)</td>\n",
       "      <td>No Apparent Injury (O)</td>\n",
       "      <td>2</td>\n",
       "      <td>...</td>\n",
       "      <td>V1: (90-20-B),(90-7-A),(720 906-B) / V2: (90-9-B)</td>\n",
       "      <td></td>\n",
       "      <td></td>\n",
       "      <td></td>\n",
       "      <td></td>\n",
       "      <td></td>\n",
       "      <td></td>\n",
       "      <td></td>\n",
       "      <td></td>\n",
       "      <td>{\"x\": 175799.5225000009, \"y\": 891002.076600000...</td>\n",
       "    </tr>\n",
       "    <tr>\n",
       "      <th>1</th>\n",
       "      <td>1</td>\n",
       "      <td>5015146</td>\n",
       "      <td>5344998</td>\n",
       "      <td>WORCESTER</td>\n",
       "      <td>01/05/2024</td>\n",
       "      <td>2024-01-05</td>\n",
       "      <td>Open</td>\n",
       "      <td>Property damage only (none injured)</td>\n",
       "      <td>No Apparent Injury (O)</td>\n",
       "      <td>2</td>\n",
       "      <td>...</td>\n",
       "      <td>V1: (90-20-B),(90-7-A),(720 906-B) / V2: (90-9-B)</td>\n",
       "      <td></td>\n",
       "      <td></td>\n",
       "      <td></td>\n",
       "      <td></td>\n",
       "      <td></td>\n",
       "      <td></td>\n",
       "      <td></td>\n",
       "      <td></td>\n",
       "      <td>{\"x\": 175799.5225000009, \"y\": 891002.076600000...</td>\n",
       "    </tr>\n",
       "    <tr>\n",
       "      <th>2</th>\n",
       "      <td>2</td>\n",
       "      <td>5015832</td>\n",
       "      <td>5345091</td>\n",
       "      <td>WORCESTER</td>\n",
       "      <td>01/07/2024</td>\n",
       "      <td>2024-01-07</td>\n",
       "      <td>Open</td>\n",
       "      <td>Property damage only (none injured)</td>\n",
       "      <td>No Apparent Injury (O)</td>\n",
       "      <td>2</td>\n",
       "      <td>...</td>\n",
       "      <td></td>\n",
       "      <td></td>\n",
       "      <td></td>\n",
       "      <td></td>\n",
       "      <td></td>\n",
       "      <td></td>\n",
       "      <td></td>\n",
       "      <td></td>\n",
       "      <td></td>\n",
       "      <td>{\"x\": 175994.68299999833, \"y\": 893358.65329999...</td>\n",
       "    </tr>\n",
       "    <tr>\n",
       "      <th>3</th>\n",
       "      <td>3</td>\n",
       "      <td>5015832</td>\n",
       "      <td>5345091</td>\n",
       "      <td>WORCESTER</td>\n",
       "      <td>01/07/2024</td>\n",
       "      <td>2024-01-07</td>\n",
       "      <td>Open</td>\n",
       "      <td>Property damage only (none injured)</td>\n",
       "      <td>No Apparent Injury (O)</td>\n",
       "      <td>2</td>\n",
       "      <td>...</td>\n",
       "      <td></td>\n",
       "      <td></td>\n",
       "      <td></td>\n",
       "      <td></td>\n",
       "      <td></td>\n",
       "      <td></td>\n",
       "      <td></td>\n",
       "      <td></td>\n",
       "      <td></td>\n",
       "      <td>{\"x\": 175994.68299999833, \"y\": 893358.65329999...</td>\n",
       "    </tr>\n",
       "    <tr>\n",
       "      <th>4</th>\n",
       "      <td>4</td>\n",
       "      <td>5016653</td>\n",
       "      <td>5345778</td>\n",
       "      <td>WORCESTER</td>\n",
       "      <td>01/02/2024</td>\n",
       "      <td>2024-01-02</td>\n",
       "      <td>Open</td>\n",
       "      <td>Property damage only (none injured)</td>\n",
       "      <td>No Apparent Injury (O)</td>\n",
       "      <td>3</td>\n",
       "      <td>...</td>\n",
       "      <td></td>\n",
       "      <td></td>\n",
       "      <td></td>\n",
       "      <td></td>\n",
       "      <td></td>\n",
       "      <td></td>\n",
       "      <td></td>\n",
       "      <td></td>\n",
       "      <td></td>\n",
       "      <td>{\"x\": 175639.38759999722, \"y\": 891405.46480000...</td>\n",
       "    </tr>\n",
       "  </tbody>\n",
       "</table>\n",
       "<p>5 rows × 151 columns</p>\n",
       "</div>"
      ],
      "text/plain": [
       "   FID  OBJECTID  CRASH_NUMB CITY_TOWN_  CRASH_DATE CRASH_DA_1 CRASH_STAT  \\\n",
       "0    0   5015146     5344998  WORCESTER  01/05/2024 2024-01-05       Open   \n",
       "1    1   5015146     5344998  WORCESTER  01/05/2024 2024-01-05       Open   \n",
       "2    2   5015832     5345091  WORCESTER  01/07/2024 2024-01-07       Open   \n",
       "3    3   5015832     5345091  WORCESTER  01/07/2024 2024-01-07       Open   \n",
       "4    4   5016653     5345778  WORCESTER  01/02/2024 2024-01-02       Open   \n",
       "\n",
       "                            CRASH_SEVE              MAX_INJR_S  NUMB_VEHC  \\\n",
       "0  Property damage only (none injured)  No Apparent Injury (O)          2   \n",
       "1  Property damage only (none injured)  No Apparent Injury (O)          2   \n",
       "2  Property damage only (none injured)  No Apparent Injury (O)          2   \n",
       "3  Property damage only (none injured)  No Apparent Injury (O)          2   \n",
       "4  Property damage only (none injured)  No Apparent Injury (O)          3   \n",
       "\n",
       "   ...                                         DRIVER_VIO  NON_MTRS_3  \\\n",
       "0  ...  V1: (90-20-B),(90-7-A),(720 906-B) / V2: (90-9-B)               \n",
       "1  ...  V1: (90-20-B),(90-7-A),(720 906-B) / V2: (90-9-B)               \n",
       "2  ...                                                                  \n",
       "3  ...                                                                  \n",
       "4  ...                                                                  \n",
       "\n",
       "  NON_MTRS_4 NON_MTRS_5 NON_MTRS_6 NON_MTRS_7 NON_MTRS_8 TRAFFIC_CO SHAPE_1  \\\n",
       "0                                                                             \n",
       "1                                                                             \n",
       "2                                                                             \n",
       "3                                                                             \n",
       "4                                                                             \n",
       "\n",
       "                                               SHAPE  \n",
       "0  {\"x\": 175799.5225000009, \"y\": 891002.076600000...  \n",
       "1  {\"x\": 175799.5225000009, \"y\": 891002.076600000...  \n",
       "2  {\"x\": 175994.68299999833, \"y\": 893358.65329999...  \n",
       "3  {\"x\": 175994.68299999833, \"y\": 893358.65329999...  \n",
       "4  {\"x\": 175639.38759999722, \"y\": 891405.46480000...  \n",
       "\n",
       "[5 rows x 151 columns]"
      ]
     },
     "execution_count": 17,
     "metadata": {},
     "output_type": "execute_result"
    }
   ],
   "source": [
    "sedf.head()"
   ]
  },
  {
   "cell_type": "markdown",
   "metadata": {},
   "source": [
    "### SHAPE info"
   ]
  },
  {
   "cell_type": "code",
   "execution_count": 21,
   "metadata": {},
   "outputs": [
    {
     "data": {
      "text/plain": [
       "(6802, 151)"
      ]
     },
     "execution_count": 21,
     "metadata": {},
     "output_type": "execute_result"
    }
   ],
   "source": [
    "# Check the column and row in sedf\n",
    "sedf.shape"
   ]
  },
  {
   "cell_type": "code",
   "execution_count": 22,
   "metadata": {},
   "outputs": [
    {
     "name": "stdout",
     "output_type": "stream",
     "text": [
      "<class 'pandas.core.frame.DataFrame'>\n",
      "RangeIndex: 6802 entries, 0 to 6801\n",
      "Columns: 151 entries, FID to SHAPE\n",
      "dtypes: Float64(4), Int32(9), Int64(1), datetime64[us](1), geometry(1), string(135)\n",
      "memory usage: 7.7 MB\n"
     ]
    }
   ],
   "source": [
    "sedf.info()"
   ]
  },
  {
   "cell_type": "markdown",
   "metadata": {},
   "source": [
    "### SHAPE geometry column\n",
    "#### The SHAPE column holds the geometry for each record in the DataFrame. "
   ]
  },
  {
   "cell_type": "code",
   "execution_count": 23,
   "metadata": {},
   "outputs": [
    {
     "data": {
      "text/plain": [
       "['point', None]"
      ]
     },
     "execution_count": 23,
     "metadata": {},
     "output_type": "execute_result"
    }
   ],
   "source": [
    "sedf.spatial.geometry_type"
   ]
  },
  {
   "cell_type": "code",
   "execution_count": 24,
   "metadata": {},
   "outputs": [
    {
     "data": {
      "image/svg+xml": [
       "<svg xmlns=\"http://www.w3.org/2000/svg\" xmlns:xlink=\"http://www.w3.org/1999/xlink\" width=\"100.0\" height=\"100.0\" viewBox=\"175798.5225000009 891001.0766000003 2.0 2.0\" preserveAspectRatio=\"xMinYMin meet\"><g transform=\"matrix(1,0,0,-1,0,1782004.1532000005)\"><circle cx=\"175799.5225000009\" cy=\"891002.0766000003\" r=\"0.06\" stroke=\"#555555\" stroke-width=\"0.02\" fill=\"#66cc99\" opacity=\"0.6\" /></g></svg>"
      ],
      "text/plain": [
       "{'x': 175799.5225000009,\n",
       " 'y': 891002.0766000003,\n",
       " 'spatialReference': {'wkid': 26986, 'latestWkid': 26986}}"
      ]
     },
     "execution_count": 24,
     "metadata": {},
     "output_type": "execute_result"
    }
   ],
   "source": [
    "# Visualize geometry\n",
    "sedf.SHAPE[0]"
   ]
  },
  {
   "cell_type": "markdown",
   "metadata": {},
   "source": [
    "## Exercise : Change index of SHAPE\n",
    "\n",
    "Replace [0] wtih [15]"
   ]
  },
  {
   "cell_type": "code",
   "execution_count": 25,
   "metadata": {},
   "outputs": [
    {
     "data": {
      "image/svg+xml": [
       "<svg xmlns=\"http://www.w3.org/2000/svg\" xmlns:xlink=\"http://www.w3.org/1999/xlink\" width=\"100.0\" height=\"100.0\" viewBox=\"175701.4450000003 889482.3106000014 2.0 2.0\" preserveAspectRatio=\"xMinYMin meet\"><g transform=\"matrix(1,0,0,-1,0,1778966.6212000027)\"><circle cx=\"175702.4450000003\" cy=\"889483.3106000014\" r=\"0.06\" stroke=\"#555555\" stroke-width=\"0.02\" fill=\"#66cc99\" opacity=\"0.6\" /></g></svg>"
      ],
      "text/plain": [
       "{'x': 175702.4450000003,\n",
       " 'y': 889483.3106000014,\n",
       " 'spatialReference': {'wkid': 26986, 'latestWkid': 26986}}"
      ]
     },
     "execution_count": 25,
     "metadata": {},
     "output_type": "execute_result"
    }
   ],
   "source": [
    "# Visualize geometry\n",
    "sedf.SHAPE[15]"
   ]
  },
  {
   "cell_type": "markdown",
   "metadata": {},
   "source": [
    "## Column Information"
   ]
  },
  {
   "cell_type": "code",
   "execution_count": 47,
   "metadata": {},
   "outputs": [
    {
     "data": {
      "text/plain": [
       "Index(['FID', 'OBJECTID', 'CRASH_NUMB', 'CITY_TOWN_', 'CRASH_DATE',\n",
       "       'CRASH_DA_1', 'CRASH_STAT', 'CRASH_SEVE', 'MAX_INJR_S', 'NUMB_VEHC',\n",
       "       ...\n",
       "       'DRIVER_VIO', 'NON_MTRS_3', 'NON_MTRS_4', 'NON_MTRS_5', 'NON_MTRS_6',\n",
       "       'NON_MTRS_7', 'NON_MTRS_8', 'TRAFFIC_CO', 'SHAPE_1', 'SHAPE'],\n",
       "      dtype='object', length=151)"
      ]
     },
     "execution_count": 47,
     "metadata": {},
     "output_type": "execute_result"
    }
   ],
   "source": [
    "sedf.columns"
   ]
  },
  {
   "cell_type": "code",
   "execution_count": 26,
   "metadata": {},
   "outputs": [
    {
     "data": {
      "text/html": [
       "<div>\n",
       "<style scoped>\n",
       "    .dataframe tbody tr th:only-of-type {\n",
       "        vertical-align: middle;\n",
       "    }\n",
       "\n",
       "    .dataframe tbody tr th {\n",
       "        vertical-align: top;\n",
       "    }\n",
       "\n",
       "    .dataframe thead th {\n",
       "        text-align: right;\n",
       "    }\n",
       "</style>\n",
       "<table border=\"1\" class=\"dataframe\">\n",
       "  <thead>\n",
       "    <tr style=\"text-align: right;\">\n",
       "      <th></th>\n",
       "      <th>CRASH_SEVE</th>\n",
       "      <th>NUMB_VEHC</th>\n",
       "      <th>TRAFFIC_CO</th>\n",
       "      <th>SHAPE</th>\n",
       "    </tr>\n",
       "  </thead>\n",
       "  <tbody>\n",
       "    <tr>\n",
       "      <th>0</th>\n",
       "      <td>Property damage only (none injured)</td>\n",
       "      <td>2</td>\n",
       "      <td></td>\n",
       "      <td>{\"x\": 175799.5225000009, \"y\": 891002.076600000...</td>\n",
       "    </tr>\n",
       "    <tr>\n",
       "      <th>1</th>\n",
       "      <td>Property damage only (none injured)</td>\n",
       "      <td>2</td>\n",
       "      <td></td>\n",
       "      <td>{\"x\": 175799.5225000009, \"y\": 891002.076600000...</td>\n",
       "    </tr>\n",
       "    <tr>\n",
       "      <th>2</th>\n",
       "      <td>Property damage only (none injured)</td>\n",
       "      <td>2</td>\n",
       "      <td></td>\n",
       "      <td>{\"x\": 175994.68299999833, \"y\": 893358.65329999...</td>\n",
       "    </tr>\n",
       "    <tr>\n",
       "      <th>3</th>\n",
       "      <td>Property damage only (none injured)</td>\n",
       "      <td>2</td>\n",
       "      <td></td>\n",
       "      <td>{\"x\": 175994.68299999833, \"y\": 893358.65329999...</td>\n",
       "    </tr>\n",
       "    <tr>\n",
       "      <th>4</th>\n",
       "      <td>Property damage only (none injured)</td>\n",
       "      <td>3</td>\n",
       "      <td></td>\n",
       "      <td>{\"x\": 175639.38759999722, \"y\": 891405.46480000...</td>\n",
       "    </tr>\n",
       "    <tr>\n",
       "      <th>...</th>\n",
       "      <td>...</td>\n",
       "      <td>...</td>\n",
       "      <td>...</td>\n",
       "      <td>...</td>\n",
       "    </tr>\n",
       "    <tr>\n",
       "      <th>6797</th>\n",
       "      <td>Property damage only (none injured)</td>\n",
       "      <td>2</td>\n",
       "      <td></td>\n",
       "      <td>{\"x\": 174673.46880000085, \"y\": 892618.37489999...</td>\n",
       "    </tr>\n",
       "    <tr>\n",
       "      <th>6798</th>\n",
       "      <td>Property damage only (none injured)</td>\n",
       "      <td>2</td>\n",
       "      <td></td>\n",
       "      <td>{\"x\": 174673.46880000085, \"y\": 892618.37489999...</td>\n",
       "    </tr>\n",
       "    <tr>\n",
       "      <th>6799</th>\n",
       "      <td>Non-fatal injury</td>\n",
       "      <td>3</td>\n",
       "      <td></td>\n",
       "      <td>{\"x\": 173238.51539999992, \"y\": 889548.00010000...</td>\n",
       "    </tr>\n",
       "    <tr>\n",
       "      <th>6800</th>\n",
       "      <td>Non-fatal injury</td>\n",
       "      <td>3</td>\n",
       "      <td></td>\n",
       "      <td>{\"x\": 173238.51539999992, \"y\": 889548.00010000...</td>\n",
       "    </tr>\n",
       "    <tr>\n",
       "      <th>6801</th>\n",
       "      <td>Non-fatal injury</td>\n",
       "      <td>3</td>\n",
       "      <td></td>\n",
       "      <td>{\"x\": 173238.51539999992, \"y\": 889548.00010000...</td>\n",
       "    </tr>\n",
       "  </tbody>\n",
       "</table>\n",
       "<p>6802 rows × 4 columns</p>\n",
       "</div>"
      ],
      "text/plain": [
       "                               CRASH_SEVE  NUMB_VEHC TRAFFIC_CO  \\\n",
       "0     Property damage only (none injured)          2              \n",
       "1     Property damage only (none injured)          2              \n",
       "2     Property damage only (none injured)          2              \n",
       "3     Property damage only (none injured)          2              \n",
       "4     Property damage only (none injured)          3              \n",
       "...                                   ...        ...        ...   \n",
       "6797  Property damage only (none injured)          2              \n",
       "6798  Property damage only (none injured)          2              \n",
       "6799                     Non-fatal injury          3              \n",
       "6800                     Non-fatal injury          3              \n",
       "6801                     Non-fatal injury          3              \n",
       "\n",
       "                                                  SHAPE  \n",
       "0     {\"x\": 175799.5225000009, \"y\": 891002.076600000...  \n",
       "1     {\"x\": 175799.5225000009, \"y\": 891002.076600000...  \n",
       "2     {\"x\": 175994.68299999833, \"y\": 893358.65329999...  \n",
       "3     {\"x\": 175994.68299999833, \"y\": 893358.65329999...  \n",
       "4     {\"x\": 175639.38759999722, \"y\": 891405.46480000...  \n",
       "...                                                 ...  \n",
       "6797  {\"x\": 174673.46880000085, \"y\": 892618.37489999...  \n",
       "6798  {\"x\": 174673.46880000085, \"y\": 892618.37489999...  \n",
       "6799  {\"x\": 173238.51539999992, \"y\": 889548.00010000...  \n",
       "6800  {\"x\": 173238.51539999992, \"y\": 889548.00010000...  \n",
       "6801  {\"x\": 173238.51539999992, \"y\": 889548.00010000...  \n",
       "\n",
       "[6802 rows x 4 columns]"
      ]
     },
     "execution_count": 26,
     "metadata": {},
     "output_type": "execute_result"
    }
   ],
   "source": [
    "new_sedf = sedf.loc[:,['CRASH_SEVE','NUMB_VEHC', 'TRAFFIC_CO','SHAPE']]\n",
    "new_sedf"
   ]
  },
  {
   "cell_type": "markdown",
   "metadata": {},
   "source": [
    "### Cursors in arcpy\n",
    "- Cursors are in-memory objects used to iterate over and manipulate rows in feature classes or tables within a geodatabase. \n",
    "- They can read, update, or delete data efficiently. \n",
    "\n",
    "#### There are three main types of cursors\n",
    "- SearchCursor(): Read only view of data from a table or feature class\n",
    "- InsertCursor(): Adds rows to a table or feature class\n",
    "- UpdateCursor(): Edit or delete rows in a table or feature class"
   ]
  },
  {
   "cell_type": "markdown",
   "metadata": {},
   "source": [
    "### Describt(): Return Descriptive Information about a feature class\n",
    "- arcpy.Describe(): https://pro.arcgis.com/en/pro-app/latest/arcpy/functions/describe-object-properties.htm"
   ]
  },
  {
   "cell_type": "code",
   "execution_count": 32,
   "metadata": {},
   "outputs": [],
   "source": [
    "desc = arcpy.Describe(\"zip_Worcester\")"
   ]
  },
  {
   "cell_type": "code",
   "execution_count": 33,
   "metadata": {},
   "outputs": [
    {
     "name": "stdout",
     "output_type": "stream",
     "text": [
      "The data type is:ShapeFile\n"
     ]
    }
   ],
   "source": [
    "print(\"The data type is:\" + desc.datatype)"
   ]
  },
  {
   "cell_type": "code",
   "execution_count": 34,
   "metadata": {},
   "outputs": [
    {
     "name": "stdout",
     "output_type": "stream",
     "text": [
      "The shape type is:Polygon\n"
     ]
    }
   ],
   "source": [
    "print(\"The shape type is:\" + desc.shapetype)"
   ]
  },
  {
   "cell_type": "markdown",
   "metadata": {},
   "source": [
    "### List the column names"
   ]
  },
  {
   "cell_type": "code",
   "execution_count": 37,
   "metadata": {},
   "outputs": [
    {
     "ename": "OSError",
     "evalue": "\"2024_Vehicle_Crash\" does not exist",
     "output_type": "error",
     "traceback": [
      "\u001b[1;31m---------------------------------------------------------------------------\u001b[0m",
      "\u001b[1;31mOSError\u001b[0m                                   Traceback (most recent call last)",
      "Cell \u001b[1;32mIn[37], line 2\u001b[0m\n\u001b[0;32m      1\u001b[0m feature_class \u001b[38;5;241m=\u001b[39m \u001b[38;5;124m\"\u001b[39m\u001b[38;5;124m2024_Vehicle_Crash\u001b[39m\u001b[38;5;124m\"\u001b[39m\n\u001b[1;32m----> 2\u001b[0m fields \u001b[38;5;241m=\u001b[39m arcpy\u001b[38;5;241m.\u001b[39mListFields(feature_class)\n\u001b[0;32m      4\u001b[0m \u001b[38;5;66;03m# Print the name of each field\u001b[39;00m\n\u001b[0;32m      5\u001b[0m \u001b[38;5;28;01mfor\u001b[39;00m field \u001b[38;5;129;01min\u001b[39;00m fields:\n",
      "File \u001b[1;32mD:\\ArcGISPro\\Resources\\ArcPy\\arcpy\\__init__.py:1227\u001b[0m, in \u001b[0;36mListFields\u001b[1;34m(dataset, wild_card, field_type)\u001b[0m\n\u001b[0;32m   1184\u001b[0m \u001b[38;5;129m@_gptooldoc\u001b[39m(\u001b[38;5;28;01mNone\u001b[39;00m, [[[\u001b[38;5;124m\"\u001b[39m\u001b[38;5;124mFeatureLayer\u001b[39m\u001b[38;5;124m\"\u001b[39m, \u001b[38;5;124m\"\u001b[39m\u001b[38;5;124mTable\u001b[39m\u001b[38;5;124m\"\u001b[39m, \u001b[38;5;124m\"\u001b[39m\u001b[38;5;124mTableView\u001b[39m\u001b[38;5;124m\"\u001b[39m, \u001b[38;5;124m\"\u001b[39m\u001b[38;5;124mDataset\u001b[39m\u001b[38;5;124m\"\u001b[39m, \u001b[38;5;124m\"\u001b[39m\u001b[38;5;124mFeatureDataset\u001b[39m\u001b[38;5;124m\"\u001b[39m], \u001b[38;5;124m\"\u001b[39m\u001b[38;5;124m\"\u001b[39m, \u001b[38;5;124m\"\u001b[39m\u001b[38;5;124m\"\u001b[39m, \u001b[38;5;124m\"\u001b[39m\u001b[38;5;124m\"\u001b[39m]])\n\u001b[0;32m   1185\u001b[0m \u001b[38;5;28;01mdef\u001b[39;00m \u001b[38;5;21mListFields\u001b[39m(dataset, wild_card\u001b[38;5;241m=\u001b[39m\u001b[38;5;28;01mNone\u001b[39;00m, field_type\u001b[38;5;241m=\u001b[39m\u001b[38;5;28;01mNone\u001b[39;00m):\n\u001b[0;32m   1186\u001b[0m \u001b[38;5;250m    \u001b[39m\u001b[38;5;124;03m\"\"\"ListFields(dataset, {wild_card}, {field_type})\u001b[39;00m\n\u001b[0;32m   1187\u001b[0m \n\u001b[0;32m   1188\u001b[0m \u001b[38;5;124;03m       Lists the fields in a feature class, shapefile, or table in a specified\u001b[39;00m\n\u001b[1;32m   (...)\u001b[0m\n\u001b[0;32m   1225\u001b[0m \n\u001b[0;32m   1226\u001b[0m \u001b[38;5;124;03m        * String:   Only field types of String are returned.\"\"\"\u001b[39;00m\n\u001b[1;32m-> 1227\u001b[0m     \u001b[38;5;28;01mreturn\u001b[39;00m gp\u001b[38;5;241m.\u001b[39mlistFields(dataset, wild_card, field_type)\n",
      "File \u001b[1;32mD:\\ArcGISPro\\Resources\\ArcPy\\arcpy\\geoprocessing\\_base.py:377\u001b[0m, in \u001b[0;36mGeoprocessor.listFields\u001b[1;34m(self, *args)\u001b[0m\n\u001b[0;32m    374\u001b[0m \u001b[38;5;250m\u001b[39m\u001b[38;5;124;03m\"\"\"GP function ListFields\"\"\"\u001b[39;00m\n\u001b[0;32m    375\u001b[0m \u001b[38;5;28;01mfrom\u001b[39;00m \u001b[38;5;21;01marcpy\u001b[39;00m\u001b[38;5;21;01m.\u001b[39;00m\u001b[38;5;21;01marcobjects\u001b[39;00m\u001b[38;5;21;01m.\u001b[39;00m\u001b[38;5;21;01marcobjectconversion\u001b[39;00m \u001b[38;5;28;01mimport\u001b[39;00m convertArcObjectToPythonObject\n\u001b[0;32m    376\u001b[0m \u001b[38;5;28;01mreturn\u001b[39;00m convertArcObjectToPythonObject(\n\u001b[1;32m--> 377\u001b[0m             \u001b[38;5;28mself\u001b[39m\u001b[38;5;241m.\u001b[39m_gp\u001b[38;5;241m.\u001b[39mListFields(\u001b[38;5;241m*\u001b[39mgp_fixargs(args, \u001b[38;5;28;01mTrue\u001b[39;00m)))\n",
      "\u001b[1;31mOSError\u001b[0m: \"2024_Vehicle_Crash\" does not exist"
     ]
    }
   ],
   "source": [
    "feature_class = \"2024_Vehicle_Crash\"\n",
    "fields = arcpy.ListFields(feature_class)\n",
    "\n",
    "# Print the name of each field\n",
    "for field in fields:\n",
    "    print(field.name)"
   ]
  },
  {
   "cell_type": "markdown",
   "metadata": {},
   "source": [
    "### SearchCursor\n",
    "- [SearchCursor](https://pro.arcgis.com/en/pro-app/latest/arcpy/data-access/searchcursor-class.htm) is a read-only cursor object so it can't be used to insert of update existing records. You can only view the contents. \n",
    "- Loop through each record in the cursor"
   ]
  },
  {
   "cell_type": "markdown",
   "metadata": {},
   "source": [
    "#### Iterate through a feature class and print the values of specific fields.\n",
    "- with statement:This statement is used to open the cursor. \n"
   ]
  },
  {
   "cell_type": "code",
   "execution_count": null,
   "metadata": {},
   "outputs": [],
   "source": [
    "fields = [\"SHAPE\"]\n",
    "with arcpy.da.SearchCursor(feature_class, fields) as cursor:\n",
    "    for row in cursor:\n",
    "        print(row)"
   ]
  },
  {
   "cell_type": "code",
   "execution_count": 76,
   "metadata": {},
   "outputs": [
    {
     "name": "stdout",
     "output_type": "stream",
     "text": [
      "On 2024-01-05 00:00:00, there are 2 vehicles that involved in traffic accident at INTERSTATE 290\n",
      "On 2024-01-05 00:00:00, there are 2 vehicles that involved in traffic accident at INTERSTATE 290\n",
      "On 2024-01-07 00:00:00, there are 2 vehicles that involved in traffic accident at INTERSTATE 290\n",
      "On 2024-01-07 00:00:00, there are 2 vehicles that involved in traffic accident at INTERSTATE 290\n",
      "On 2024-01-02 00:00:00, there are 3 vehicles that involved in traffic accident at INTERSTATE 290\n",
      "On 2024-01-02 00:00:00, there are 3 vehicles that involved in traffic accident at INTERSTATE 290\n",
      "On 2024-01-02 00:00:00, there are 3 vehicles that involved in traffic accident at INTERSTATE 290\n",
      "On 2024-01-04 00:00:00, there are 3 vehicles that involved in traffic accident at INTERSTATE 290\n",
      "On 2024-01-04 00:00:00, there are 3 vehicles that involved in traffic accident at INTERSTATE 290\n",
      "On 2024-01-04 00:00:00, there are 3 vehicles that involved in traffic accident at INTERSTATE 290\n",
      "On 2024-01-12 00:00:00, there are 1 vehicles that involved in traffic accident at PURPLE HEART HIGHWAY\n",
      "On 2024-01-02 00:00:00, there are 3 vehicles that involved in traffic accident at FOX STREET\n",
      "On 2024-01-02 00:00:00, there are 3 vehicles that involved in traffic accident at FOX STREET\n",
      "On 2024-01-02 00:00:00, there are 3 vehicles that involved in traffic accident at FOX STREET\n",
      "On 2024-01-01 00:00:00, there are 2 vehicles that involved in traffic accident at BLAKE STREET\n",
      "On 2024-01-01 00:00:00, there are 2 vehicles that involved in traffic accident at BLAKE STREET\n",
      "On 2024-01-16 00:00:00, there are 1 vehicles that involved in traffic accident at INTERSTATE 290\n",
      "On 2024-01-11 00:00:00, there are 2 vehicles that involved in traffic accident at INTERSTATE 290\n",
      "On 2024-01-11 00:00:00, there are 2 vehicles that involved in traffic accident at INTERSTATE 290\n",
      "On 2024-01-02 00:00:00, there are 3 vehicles that involved in traffic accident at INTERSTATE 290\n"
     ]
    }
   ],
   "source": [
    "fields = [\"CRASH_DA_1\", \"NUMB_VEHC\", \"STREETNAME\"]\n",
    "with arcpy.da.SearchCursor(feature_class, fields) as cursor:\n",
    "    for idx, row in enumerate(cursor):\n",
    "        if idx < 20:\n",
    "            print('On {}, there are {} vehicles that involved in traffic accident at {}'.format(row[0], row[1], row[2]))"
   ]
  },
  {
   "cell_type": "markdown",
   "metadata": {},
   "source": [
    "## Exercise : Extract with filtering condition\n",
    "\n",
    "get rows that with NUMB_VEHC > 10"
   ]
  },
  {
   "cell_type": "code",
   "execution_count": 81,
   "metadata": {},
   "outputs": [
    {
     "name": "stdout",
     "output_type": "stream",
     "text": [
      "On 2024-06-10 00:00:00, there are 10 vehicles that involved in traffic accident at INTERSTATE 290\n",
      "On 2024-06-10 00:00:00, there are 10 vehicles that involved in traffic accident at INTERSTATE 290\n",
      "On 2024-06-10 00:00:00, there are 10 vehicles that involved in traffic accident at INTERSTATE 290\n",
      "On 2024-06-10 00:00:00, there are 10 vehicles that involved in traffic accident at INTERSTATE 290\n",
      "On 2024-06-10 00:00:00, there are 10 vehicles that involved in traffic accident at INTERSTATE 290\n",
      "On 2024-06-10 00:00:00, there are 10 vehicles that involved in traffic accident at INTERSTATE 290\n",
      "On 2024-06-10 00:00:00, there are 10 vehicles that involved in traffic accident at INTERSTATE 290\n",
      "On 2024-06-10 00:00:00, there are 10 vehicles that involved in traffic accident at INTERSTATE 290\n",
      "On 2024-06-10 00:00:00, there are 10 vehicles that involved in traffic accident at INTERSTATE 290\n",
      "On 2024-06-10 00:00:00, there are 10 vehicles that involved in traffic accident at INTERSTATE 290\n"
     ]
    }
   ],
   "source": [
    "fields = [\"CRASH_DA_1\", \"NUMB_VEHC\", \"STREETNAME\"]\n",
    "with arcpy.da.SearchCursor(feature_class, fields) as cursor:\n",
    "    for idx, row in enumerate(cursor):\n",
    "        if row[1] > 5 :\n",
    "            print('On {}, there are {} vehicles that involved in traffic accident at {}'.format(row[0], row[1], row[2]))"
   ]
  },
  {
   "cell_type": "markdown",
   "metadata": {},
   "source": [
    "#### Return a set of unique field values."
   ]
  },
  {
   "cell_type": "code",
   "execution_count": 78,
   "metadata": {},
   "outputs": [
    {
     "name": "stdout",
     "output_type": "stream",
     "text": [
      "{'SIGEL STREET', 'DEAN STREET', 'HIGGINS STREET', 'WHIPPLE STREET', 'HEARD STREET', 'CUTLER STREET', 'KELLEY SQUARE', 'RICHARDS STREET', 'CAMP STREET', 'MELROSE STREET', 'QUABOAG STREET', 'CHARLTON STREET', 'EATON PLACE', 'PIEDMONT STREET', 'OAK AVENUE', 'GODDARD MEMORIAL DRIVE', 'CHESTNUT STREET', 'MUSKEEGO STREET', 'SHERIDAN STREET', 'WALL STREET', 'PATTISON STREET', 'MERRICK STREET', 'STRATHMORE ROAD', 'LODI STREET', 'WAVERLY STREET', 'HARTWELL STREET', 'HOLLIS STREET', 'HAYNES STREET', 'SHAWMUT STREET', 'CAROLINE STREET', 'WEST STREET', 'MILLBROOK STREET', 'WASHINGTON SQUARE', 'NEW BOND STREET', 'HALMSTAD STREET', 'SHREWSBURY STREET', 'FERDINAND STREET', 'JAQUES AVENUE', 'IONIC AVENUE', 'NEWBURY STREET', 'LINCOLN STREET', 'INTERSTATE 290', 'NORTHEAST CUTOFF', 'HARRINGTON WAY', 'EASTERN AVENUE', 'COUNTRY CLUB BOULEVARD', 'THOMAS STREET', 'PRESTON STREET', 'BERKMANS STREET', 'DORCHESTER STREET', 'HIGHLAND STREET', 'CATHARINE STREET', 'BAILEY STREET', 'CLOVER STREET', 'BLAKE STREET', 'SUNDERLAND ROAD', 'BEACON STREET', 'CHESTER STREET', 'OREAD STREET', 'MERRIFIELD STREET', 'HANCOCK STREET', 'MOUNT PLEASANT STREET', 'CRILLON ROAD', 'EUCLID AVENUE', 'ERICSSON STREET', 'BROWNELL STREET', 'DAVENPORT STREET', 'MULBERRY STREET', 'LEEDS STREET', 'SOUTH STREET', 'MARBLE STREET', 'ORIENT STREET', 'ROUTE 20', 'MASON STREET', 'NORTH STREET', 'SOUTHBRIDGE STREET', 'CHANNING STREET', 'EAST WORCESTER STREET', 'FOSTER STREET', 'WELLINGTON STREET', 'WEST CHESTER STREET', 'SAGAMORE ROAD', 'GRAND VIEW AVENUE', 'JAMES STREET', 'WOODS AVENUE', 'WASHINGTON STREET', 'QUEEN STREET', 'WARDEN STREET', 'CHARLOTTE STREET', 'SUMMER STREET', 'ARROWSIC STREET', 'GREEN HILL PARKWAY', 'GENSELL AVENUE', 'DELLWOOD ROAD', 'RAMP-RT 12 SB TO RT 290 EB', 'FRANK STREET', 'LANCASTER STREET', 'FANTASIA DRIVE', 'FLORENCE STREET', 'MAPLEWOOD AVENUE', 'WEBSTER STREET', 'PENN AVENUE', 'WATER STREET', 'BELMONT STREET', 'ARBORETUM DRIVE', 'SUSSEX LANE', 'GARDNER STREET', 'GERMAIN STREET', 'TUCKERMAN STREET', 'SHAMROCK STREET', 'MAYWOOD STREET', 'BRIDLE PATH', 'FOREST STREET', 'MALVERN ROAD', 'UNION STREET', 'GATES LANE', 'BOYDEN STREET', 'KING STREET', 'WINDHAM STREET', 'NORFOLK STREET', 'NORTHBORO STREET', 'BENEFIT STREET', 'VINSON STREET', 'GOLD STAR BOULEVARD', 'NORTHAMPTON STREET', 'MOUNTAIN STREET EAST', 'PLEASANT VALLEY DRIVE', 'ASHMONT AVENUE', 'REED STREET', 'LANESBORO ROAD', 'VILLAGE STREET', 'AGAWAM STREET', 'COOLIDGE ROAD', 'WINIFRED AVENUE', 'SHORE DRIVE', 'SERVICE ROAD', 'EAST CENTRAL STREET', 'DELMONT AVENUE', 'SAINT NICHOLAS AVENUE', 'BRANDON ROAD', 'BOYLSTON STREET', 'SOUTH BUFFUM STREET', 'HARDING STREET', 'BOURNE STREET', 'VARNUM STREET', 'HOUGHTON STREET', 'WHITNEY STREET', 'CHILMARK STREET', 'COTTAGE STREET', 'MARCONI ROAD', 'PLYMOUTH STREET', 'NATURAL HISTORY DRIVE', 'ACUSHNET AVENUE', 'HARLEM STREET', 'POND STREET', 'TROWBRIDGE ROAD', 'STONEHAM ROAD', 'STATE STREET', 'QUINCY STREET', 'FAIRMONT AVENUE', 'WASHBURN STREET', 'PLANTATION PARKWAY', 'TOBIAS BOLAND WAY', 'HENCHMAN STREET', 'RUTH STREET', 'WOODLAND STREET', 'ELIZABETH STREET', 'MILL STREET', 'MADISON STREET', 'ORNE STREET', 'HOLDEN STREET', 'MYRTLE STREET', 'DOWNING STREET', 'DERBY STREET', 'CHROME STREET', 'TACOMA STREET', 'HILL STREET', 'GROSVENOR STREET', 'LAMARTINE STREET', 'LARCH STREET', 'RANDALL STREET', 'EVERARD STREET', 'PROVIDENCE STREET', 'FRUIT STREET', 'ROYAL ROAD', 'ARARAT STREET', 'FISKE STREET', 'GRAFTON STREET', 'SOPHIA DRIVE', 'PERRY AVENUE', 'WINFIELD STREET', 'CANTERBURY STREET', 'FIFTH AVENUE', 'FEDERAL STREET', 'BAY STATE ROAD', 'STOWELL AVENUE', 'COES STREET', 'DAYTON STREET', 'LAKESIDE AVENUE', 'MERCANTILE STREET', 'NORTH ASHLAND STREET', 'EVERTON AVENUE', 'WARD STREET', 'SAINT JOHNS ROAD', 'RAMP-WEST BOYLSTON DR TO RT 190 NB', 'LONGFELLOW ROAD', 'CLARKSON STREET', 'EINHORN ROAD', 'ANDREWS AVENUE', 'CHADWICK STREET', 'ASHLAND STREET', 'WAYNE STREET', 'RAYMOND STREET', 'CHELSEA STREET', 'HARRISON STREET', 'HOOPER STREET', 'DEERFIELD STREET', 'LAMAR AVENUE', 'AETNA STREET', 'SYLVAN STREET', ' ', 'WINCHESTER AVENUE', 'QUINSIGAMOND AVENUE', 'WESTVIEW ROAD', 'GIFFORD DRIVE', 'ELLSWORTH STREET', 'MARION AVENUE', 'PLANTATION STREET', 'CURTIS STREET', 'CHATHAM STREET', 'HOME STREET', 'CARDINAL ROAD', 'OBERLIN STREET', 'CONVERSE STREET', 'OLIVER STREET', 'COBURN AVENUE', 'MURRAY AVENUE', 'PINE CREST DRIVE', 'GREENDALE AVENUE', 'COMMERCIAL STREET', 'GROTON PLACE', 'MORELAND STREET', 'LAKE AVENUE NORTH', 'MENDON STREET', 'BLITHEWOOD AVENUE', 'ISLAND ROAD', 'MAYFIELD STREET', 'GEORGE STREET', 'SPOFFORD ROAD', 'CUTTING AVENUE', 'JOHN STREET', 'MARSHALL STREET', 'GLENNIE STREET', 'ILLINOIS STREET', 'NEVADA STREET', 'FOX STREET', 'OXFORD STREET', 'FREEDOM WAY', 'MOUNT VERNON STREET', 'FREELAND STREET', 'LUND STREET', 'CARLETON STREET', 'HADWEN ROAD', 'GRAND STREET', 'MARY SCANO DRIVE', 'MILLBURY STREET', 'ASHWOOD STREET', 'NORMAN AVENUE', 'BEAVER STREET', 'OTSEGO ROAD', 'FRONT STREET', 'CEDAR STREET', 'WINTER STREET', 'DEWEY STREET', 'ENGLEWOOD AVENUE', 'BEVERLY ROAD', 'CLARK STREET', 'THORNE STREET', 'ESTHER STREET', 'COMMONWEALTH AVENUE', 'CURTIS PARKWAY', 'CASCO STREET', 'AUSTIN STREET', 'HIGH STREET', 'JUNE STREET', 'HOLCOMBE STREET', 'TOWNSEND STREET', 'MORNINGSIDE ROAD', 'HYCREST DRIVE', 'RAMP-RT 9 TO RT 290 WB', 'DUXBURY ROAD', 'DUPUIS AVENUE', 'DOVER STREET', 'HUNTINGTON AVENUE', 'DAVIS STREET', 'LAUREL STREET', 'PURITAN AVENUE', 'FAIRBANKS STREET', 'LAKE AVENUE', 'IRVING STREET', 'MOUNT AVENUE', 'LINDEN STREET', 'WOODBURY STREET', 'INDIANA STREET', 'WEBSTER PLACE', 'DUTTON STREET', 'TEMPLE STREET', 'BERKELEY STREET', 'BETHANY STREET', 'EDGEWORTH STREET', 'DRUMMOND AVENUE', 'OAKWOOD LANE', 'SHANNON STREET', 'HILLSIDE STREET', 'STATE ROAD', 'HATHAWAY STREET', 'COMMODORE ROAD', 'SIGOURNEY STREET', 'EDWARD STREET', 'BENEFIT TERRACE', 'MOHAVE ROAD', 'HAMILTON STREET', 'RUSSELL STREET', 'LOWELL STREET', 'WRENTHAM ROAD', 'FREMONT STREET', 'WIGWAM HILL DRIVE', 'WARNER AVENUE', 'BLACKSTONE RIVER ROAD', 'CREST CIRCLE', 'GORHAM STREET', 'BRANTWOOD ROAD', 'PAINE STREET', 'VIEW STREET', 'BEDFORD AVENUE', 'BEECHMONT STREET', 'Main Street', 'GREENWOOD STREET', 'GARDEN STREET', 'SEVER STREET', 'SALISBURY STREET', 'FRANKLIN STREET', 'AMESBURY STREET', 'MIDDLESEX AVENUE', 'GROVE STREET', 'CONSTITUTION AVENUE', 'ALBERT STREET', 'BOYNTON STREET', 'OLEAN STREET', 'WEST BOYLSTON TERRACE', 'COHASSET STREET', 'VERNON STREET', 'STERLING STREET', 'AMES STREET', 'HITCHCOCK ROAD', 'BELLEVUE STREET', 'PARK AVENUE', 'AIRPORT DRIVE', 'JACQUES STREET', 'HACKER STREET', 'STEVENS ROAD', 'SUFFIELD STREET', 'HARVARD STREET', 'LAURIER STREET', 'SUFFOLK STREET', 'MAY STREET', 'STEELE STREET', 'PORTLAND STREET', 'COUNTY STREET', 'CONGRESS STREET', 'MAJOR TAYLOR BOULEVARD', 'SIMMONS AVENUE', 'FLAGG STREET', 'OLD LINCOLN STREET', 'APRICOT STREET', 'FAIRHAVEN ROAD', 'CRYSTAL STREET', 'WEST BOYLSTON STREET', 'RICHMOND AVENUE', 'CHINO AVENUE', 'EMERSON STREET', 'SOUTH HILL STREET', 'NORTON DRIVE', 'KENDALL STREET', 'ARLINGTON STREET', 'WETHERELL STREET', 'CUMBERLAND STREET', 'MALDEN STREET', 'STANDISH STREET', 'WILLVAIL STREET', 'ALPINE STREET', 'BYRON STREET', 'PRIMROSE STREET', 'BAY EDGE DRIVE', 'ENID STREET', 'KENDRICK AVENUE', 'MONADNOCK ROAD', 'SHELBY STREET', 'HEROULT ROAD', 'CHAPIN STREET', 'SOUTH LUDLOW STREET', 'INSTITUTE ROAD', 'CHEYENNE ROAD', 'HERMON STREET', 'BALL STREET', 'WESTBOROUGH STREET', 'GRANITE STREET', 'MARSH AVENUE', 'SOUTHGATE STREET', 'KING PHILIP ROAD', 'INTERVALE ROAD', 'CROMPTON STREET', 'WACHUSETT STREET', 'MOUNT HOLYOKE AVENUE', 'ENVELOPE TERRACE', 'WILSON STREET', 'INGLESIDE AVENUE', 'PULLMAN STREET', 'STAFFORD STREET', 'BARBER AVENUE', 'WINDSOR STREET', 'WHITMAN ROAD', 'RIDGEWOOD ROAD', 'STONELAND ROAD', 'SECOND STREET', 'NUTTALL LANE', 'WINTHROP STREET', 'BIRCH STREET', 'HENSHAW STREET', 'MOUNTAIN STREET WEST', 'SOUTHWEST CUTOFF', 'FOURTH STREET', 'WILLIAMSBERG DRIVE', 'LUDLOW STREET', 'CLEARVIEW AVENUE', 'ENDICOTT STREET', 'BROOKSHIRE ROAD', 'CHANDLER STREET', 'PALM STREET', 'FARADAY STREET', 'HAMMOND STREET', 'WASHINGTON SQUARE CONNECTOR', 'HEYWOOD STREET', 'PATCH RESERVOIR DRIVE', 'LOXWOOD STREET', 'OAK STREET', 'PILGRIM AVENUE', 'GIBBS STREET', 'HAWLEY STREET', 'WEST UPSALA STREET', 'COPPERFIELD ROAD', 'ATLANTA STREET', 'DUSTIN STREET', 'LAKEWOOD STREET', 'BLANCHE STREET', 'FAIRFAX ROAD', 'OUTLOOK DRIVE', 'AUDUBON ROAD', 'PLEASANT STREET', 'VASSAR STREET', 'MAIN STREET', 'PROSPECT STREET', 'BELCOURT ROAD', 'MONTAGUE STREET', 'SWAN AVENUE', 'BANCROFT STREET', 'CANTON STREET', 'LAFAYETTE STREET', 'ELM STREET', 'ELLIS DRIVE', 'PURPLE HEART HIGHWAY', 'PARKER STREET', 'BRUSSELS STREET', 'SEYMOUR STREET', 'LOVELL STREET', 'HOPE AVENUE', 'HARVARD PLACE', 'FALES STREET', 'BRANCH STREET', 'REXHAME ROAD', 'FISHER ROAD', 'VALLEY HILL DRIVE', 'BRECK STREET', 'NATHANIEL STREET', 'NEBRASKA STREET', 'DANA AVENUE', 'MASSASOIT ROAD', 'ABBOTT STREET', 'RAMP-RT 122A SB/MCKEON RD TO RTS 146 SB/122A SB', 'ALLEN STREET', 'BEAVER BROOK PARKWAY', 'GATES STREET', 'JACKSON STREET', 'CLEMENT STREET', 'HOWLAND TERRACE', 'UPSALA STREET', 'CARPENTER AVENUE', 'MCKEON ROAD', 'WHITMARSH AVENUE', 'MILL STREET EXTENSION', 'MCGILL STREET', 'RIVERSIDE STREET', 'PARK TERRACE ROAD', 'BURNCOAT STREET', 'GLADE STREET', 'ARTHUR STREET', 'WEST BOYLSTON DRIVE', 'MCKINLEY ROAD', 'INTERSTATE 190', 'SUMMERHILL AVENUE', 'RODNEY STREET', 'KENBERMA ROAD', 'ACTON STREET', 'OLGA AVENUE', 'ALVARADO AVENUE', 'KINGSBURY STREET', 'BARCLAY STREET', 'GOLDTHWAITE ROAD', 'JUDSON ROAD', 'CAMBRIDGE STREET', 'MOWER STREET', 'GREEN STREET', 'EVERETT GAYLORD BOULEVARD', 'FARRAR AVENUE', 'COLLEGE STREET', 'RUTHVEN AVENUE'}\n"
     ]
    }
   ],
   "source": [
    "feature_class = \"2024_Vehicle_Crash\"\n",
    "field = 'STREETNAME'\n",
    "# Syntax 1:\n",
    "values = []\n",
    "for row in arcpy.da.SearchCursor(feature_class, field):\n",
    "    values.append(row[0])\n",
    "unique_values = set(values)    \n",
    "print(unique_values)"
   ]
  },
  {
   "cell_type": "markdown",
   "metadata": {},
   "source": [
    "#### sorted() function to sort value\n",
    "Use SearchCursor and the Python sorted method to sort rows."
   ]
  },
  {
   "cell_type": "code",
   "execution_count": 91,
   "metadata": {},
   "outputs": [
    {
     "data": {
      "text/plain": [
       "Index(['FID', 'OBJECTID', 'CRASH_NUMB', 'CITY_TOWN_', 'CRASH_DATE',\n",
       "       'CRASH_DA_1', 'CRASH_STAT', 'CRASH_SEVE', 'MAX_INJR_S', 'NUMB_VEHC',\n",
       "       ...\n",
       "       'DRIVER_VIO', 'NON_MTRS_3', 'NON_MTRS_4', 'NON_MTRS_5', 'NON_MTRS_6',\n",
       "       'NON_MTRS_7', 'NON_MTRS_8', 'TRAFFIC_CO', 'SHAPE_1', 'SHAPE'],\n",
       "      dtype='object', length=151)"
      ]
     },
     "execution_count": 91,
     "metadata": {},
     "output_type": "execute_result"
    }
   ],
   "source": [
    "sedf.columns"
   ]
  },
  {
   "cell_type": "code",
   "execution_count": 109,
   "metadata": {},
   "outputs": [
    {
     "name": "stdout",
     "output_type": "stream",
     "text": [
      "On 2024-01-01 00:00:00, there are 2 vehicles that involved in traffic accident ASHWOOD STREET \n",
      "On 2024-01-01 00:00:00, there are 2 vehicles that involved in traffic accident ASHWOOD STREET \n",
      "On 2024-01-01 00:00:00, there are 2 vehicles that involved in traffic accident BLAKE STREET \n",
      "On 2024-01-01 00:00:00, there are 2 vehicles that involved in traffic accident BLAKE STREET \n",
      "On 2024-01-01 00:00:00, there are 2 vehicles that involved in traffic accident GOLD STAR BOULEVARD \n",
      "On 2024-01-01 00:00:00, there are 2 vehicles that involved in traffic accident GOLD STAR BOULEVARD \n",
      "On 2024-01-01 00:00:00, there are 2 vehicles that involved in traffic accident MAIN STREET \n",
      "On 2024-01-01 00:00:00, there are 2 vehicles that involved in traffic accident MAIN STREET \n",
      "On 2024-01-01 00:00:00, there are 2 vehicles that involved in traffic accident SEVER STREET \n",
      "On 2024-01-01 00:00:00, there are 2 vehicles that involved in traffic accident SEVER STREET \n",
      "On 2024-01-01 00:00:00, there are 2 vehicles that involved in traffic accident STAFFORD STREET \n",
      "On 2024-01-01 00:00:00, there are 2 vehicles that involved in traffic accident STAFFORD STREET \n",
      "On 2024-01-01 00:00:00, there are 2 vehicles that involved in traffic accident VERNON STREET \n",
      "On 2024-01-01 00:00:00, there are 2 vehicles that involved in traffic accident VERNON STREET \n",
      "On 2024-01-01 00:00:00, there are 4 vehicles that involved in traffic accident FLORENCE STREET \n",
      "On 2024-01-01 00:00:00, there are 4 vehicles that involved in traffic accident FLORENCE STREET \n",
      "On 2024-01-01 00:00:00, there are 4 vehicles that involved in traffic accident FLORENCE STREET \n",
      "On 2024-01-01 00:00:00, there are 4 vehicles that involved in traffic accident FLORENCE STREET \n",
      "On 2024-01-02 00:00:00, there are 2 vehicles that involved in traffic accident   \n",
      "On 2024-01-02 00:00:00, there are 2 vehicles that involved in traffic accident   \n"
     ]
    }
   ],
   "source": [
    "with arcpy.da.SearchCursor(feature_class, (\"CRASH_DA_1\", \"NUMB_VEHC\", \"STREETNAME\")) as cursor:\n",
    "    for indx, row in enumerate(sorted(cursor)):\n",
    "        if indx < 20:\n",
    "            print('On {}, there are {} vehicles that involved in traffic accident {} '.format(row[0], row[1], row[2]))"
   ]
  },
  {
   "cell_type": "markdown",
   "metadata": {},
   "source": [
    "## Exercise : Sorted from largest to smallest\n",
    "\n",
    "Sort the rows based on NUMB_VEHC from largest to smallest\n",
    "\n",
    "sorted(reverse = True)"
   ]
  },
  {
   "cell_type": "code",
   "execution_count": 110,
   "metadata": {},
   "outputs": [
    {
     "name": "stdout",
     "output_type": "stream",
     "text": [
      "there are 10 vehicles that involved in traffic accident at INTERSTATE 290 On 2024-06-10 00:00:00  \n",
      "there are 10 vehicles that involved in traffic accident at INTERSTATE 290 On 2024-06-10 00:00:00  \n",
      "there are 10 vehicles that involved in traffic accident at INTERSTATE 290 On 2024-06-10 00:00:00  \n",
      "there are 10 vehicles that involved in traffic accident at INTERSTATE 290 On 2024-06-10 00:00:00  \n",
      "there are 10 vehicles that involved in traffic accident at INTERSTATE 290 On 2024-06-10 00:00:00  \n",
      "there are 10 vehicles that involved in traffic accident at INTERSTATE 290 On 2024-06-10 00:00:00  \n",
      "there are 10 vehicles that involved in traffic accident at INTERSTATE 290 On 2024-06-10 00:00:00  \n",
      "there are 10 vehicles that involved in traffic accident at INTERSTATE 290 On 2024-06-10 00:00:00  \n",
      "there are 10 vehicles that involved in traffic accident at INTERSTATE 290 On 2024-06-10 00:00:00  \n",
      "there are 10 vehicles that involved in traffic accident at INTERSTATE 290 On 2024-06-10 00:00:00  \n",
      "there are 5 vehicles that involved in traffic accident at PROVIDENCE STREET On 2024-03-10 00:00:00  \n",
      "there are 5 vehicles that involved in traffic accident at PROVIDENCE STREET On 2024-03-10 00:00:00  \n",
      "there are 5 vehicles that involved in traffic accident at PROVIDENCE STREET On 2024-03-10 00:00:00  \n",
      "there are 5 vehicles that involved in traffic accident at PROVIDENCE STREET On 2024-03-10 00:00:00  \n",
      "there are 5 vehicles that involved in traffic accident at PROVIDENCE STREET On 2024-03-10 00:00:00  \n",
      "there are 5 vehicles that involved in traffic accident at MERRIFIELD STREET On 2024-01-28 00:00:00  \n",
      "there are 5 vehicles that involved in traffic accident at MERRIFIELD STREET On 2024-01-28 00:00:00  \n",
      "there are 5 vehicles that involved in traffic accident at MERRIFIELD STREET On 2024-01-28 00:00:00  \n",
      "there are 5 vehicles that involved in traffic accident at MERRIFIELD STREET On 2024-01-28 00:00:00  \n",
      "there are 5 vehicles that involved in traffic accident at MERRIFIELD STREET On 2024-01-28 00:00:00  \n",
      "there are 5 vehicles that involved in traffic accident at INTERSTATE 290 On 2024-07-25 00:00:00  \n",
      "there are 5 vehicles that involved in traffic accident at INTERSTATE 290 On 2024-07-25 00:00:00  \n",
      "there are 5 vehicles that involved in traffic accident at INTERSTATE 290 On 2024-07-25 00:00:00  \n",
      "there are 5 vehicles that involved in traffic accident at INTERSTATE 290 On 2024-07-25 00:00:00  \n",
      "there are 5 vehicles that involved in traffic accident at INTERSTATE 290 On 2024-07-25 00:00:00  \n",
      "there are 5 vehicles that involved in traffic accident at INTERSTATE 290 On 2024-06-27 00:00:00  \n",
      "there are 5 vehicles that involved in traffic accident at INTERSTATE 290 On 2024-06-27 00:00:00  \n",
      "there are 5 vehicles that involved in traffic accident at INTERSTATE 290 On 2024-06-27 00:00:00  \n",
      "there are 5 vehicles that involved in traffic accident at INTERSTATE 290 On 2024-06-27 00:00:00  \n",
      "there are 5 vehicles that involved in traffic accident at INTERSTATE 290 On 2024-06-27 00:00:00  \n"
     ]
    }
   ],
   "source": [
    "with arcpy.da.SearchCursor(feature_class, (\"NUMB_VEHC\",\"STREETNAME\", \"CRASH_DA_1\")) as cursor:\n",
    "    for idx, row in enumerate(sorted(cursor, reverse = True)):\n",
    "        if idx < 30:\n",
    "            print('there are {} vehicles that involved in traffic accident at {} On {}  '.format(row[0], row[1], row[2]))"
   ]
  },
  {
   "cell_type": "markdown",
   "metadata": {},
   "source": [
    "#### Sort values by SQL\n",
    "- SQL (Structured Query Language) is a standard language used for managing and manipulating relational databases. \n",
    "- [sql_clause](https://pro.arcgis.com/en/pro-app/latest/arcpy/data-access/searchcursor-class.htm) parameter in SearchCursor function\n",
    "- sql_clause has prefix clause and postfix clause. "
   ]
  },
  {
   "cell_type": "markdown",
   "metadata": {},
   "source": [
    "ORDER BY clause is only suppoted when working with database"
   ]
  },
  {
   "cell_type": "code",
   "execution_count": 111,
   "metadata": {},
   "outputs": [
    {
     "name": "stdout",
     "output_type": "stream",
     "text": [
      "On 2024-01-05 00:00:00, there are 2 vehicles that involved in traffic accidents at INTERSTATE 290 \n",
      "On 2024-01-05 00:00:00, there are 2 vehicles that involved in traffic accidents at INTERSTATE 290 \n",
      "On 2024-01-07 00:00:00, there are 2 vehicles that involved in traffic accidents at INTERSTATE 290 \n",
      "On 2024-01-07 00:00:00, there are 2 vehicles that involved in traffic accidents at INTERSTATE 290 \n",
      "On 2024-01-02 00:00:00, there are 3 vehicles that involved in traffic accidents at INTERSTATE 290 \n",
      "On 2024-01-02 00:00:00, there are 3 vehicles that involved in traffic accidents at INTERSTATE 290 \n",
      "On 2024-01-02 00:00:00, there are 3 vehicles that involved in traffic accidents at INTERSTATE 290 \n",
      "On 2024-01-04 00:00:00, there are 3 vehicles that involved in traffic accidents at INTERSTATE 290 \n",
      "On 2024-01-04 00:00:00, there are 3 vehicles that involved in traffic accidents at INTERSTATE 290 \n",
      "On 2024-01-04 00:00:00, there are 3 vehicles that involved in traffic accidents at INTERSTATE 290 \n",
      "On 2024-01-12 00:00:00, there are 1 vehicles that involved in traffic accidents at PURPLE HEART HIGHWAY \n",
      "On 2024-01-02 00:00:00, there are 3 vehicles that involved in traffic accidents at FOX STREET \n",
      "On 2024-01-02 00:00:00, there are 3 vehicles that involved in traffic accidents at FOX STREET \n",
      "On 2024-01-02 00:00:00, there are 3 vehicles that involved in traffic accidents at FOX STREET \n",
      "On 2024-01-01 00:00:00, there are 2 vehicles that involved in traffic accidents at BLAKE STREET \n",
      "On 2024-01-01 00:00:00, there are 2 vehicles that involved in traffic accidents at BLAKE STREET \n",
      "On 2024-01-16 00:00:00, there are 1 vehicles that involved in traffic accidents at INTERSTATE 290 \n",
      "On 2024-01-11 00:00:00, there are 2 vehicles that involved in traffic accidents at INTERSTATE 290 \n",
      "On 2024-01-11 00:00:00, there are 2 vehicles that involved in traffic accidents at INTERSTATE 290 \n",
      "On 2024-01-02 00:00:00, there are 3 vehicles that involved in traffic accidents at INTERSTATE 290 \n",
      "On 2024-01-02 00:00:00, there are 3 vehicles that involved in traffic accidents at INTERSTATE 290 \n",
      "On 2024-01-02 00:00:00, there are 3 vehicles that involved in traffic accidents at INTERSTATE 290 \n",
      "On 2024-01-05 00:00:00, there are 2 vehicles that involved in traffic accidents at INTERSTATE 290 \n",
      "On 2024-01-05 00:00:00, there are 2 vehicles that involved in traffic accidents at INTERSTATE 290 \n",
      "On 2024-01-02 00:00:00, there are 3 vehicles that involved in traffic accidents at INTERSTATE 290 \n",
      "On 2024-01-02 00:00:00, there are 3 vehicles that involved in traffic accidents at INTERSTATE 290 \n",
      "On 2024-01-02 00:00:00, there are 3 vehicles that involved in traffic accidents at INTERSTATE 290 \n",
      "On 2024-01-04 00:00:00, there are 4 vehicles that involved in traffic accidents at INTERSTATE 290 \n",
      "On 2024-01-04 00:00:00, there are 4 vehicles that involved in traffic accidents at INTERSTATE 290 \n",
      "On 2024-01-04 00:00:00, there are 4 vehicles that involved in traffic accidents at INTERSTATE 290 \n",
      "On 2024-01-04 00:00:00, there are 4 vehicles that involved in traffic accidents at INTERSTATE 290 \n",
      "On 2024-01-08 00:00:00, there are 1 vehicles that involved in traffic accidents at QUINSIGAMOND AVENUE \n",
      "On 2024-01-04 00:00:00, there are 2 vehicles that involved in traffic accidents at INTERSTATE 290 \n",
      "On 2024-01-04 00:00:00, there are 2 vehicles that involved in traffic accidents at INTERSTATE 290 \n",
      "On 2024-01-08 00:00:00, there are 2 vehicles that involved in traffic accidents at INTERSTATE 290 \n",
      "On 2024-01-08 00:00:00, there are 2 vehicles that involved in traffic accidents at INTERSTATE 290 \n",
      "On 2024-01-03 00:00:00, there are 2 vehicles that involved in traffic accidents at RAMP-RT 12 SB TO RT 290 EB \n",
      "On 2024-01-03 00:00:00, there are 2 vehicles that involved in traffic accidents at RAMP-RT 12 SB TO RT 290 EB \n",
      "On 2024-01-10 00:00:00, there are 1 vehicles that involved in traffic accidents at INTERSTATE 290 \n",
      "On 2024-01-06 00:00:00, there are 1 vehicles that involved in traffic accidents at INGLESIDE AVENUE \n",
      "On 2024-01-13 00:00:00, there are 1 vehicles that involved in traffic accidents at INTERSTATE 190 \n",
      "On 2024-01-08 00:00:00, there are 1 vehicles that involved in traffic accidents at INTERSTATE 290 \n",
      "On 2024-01-09 00:00:00, there are 1 vehicles that involved in traffic accidents at INTERSTATE 290 \n",
      "On 2024-01-10 00:00:00, there are 2 vehicles that involved in traffic accidents at CLEMENT STREET \n",
      "On 2024-01-10 00:00:00, there are 2 vehicles that involved in traffic accidents at CLEMENT STREET \n",
      "On 2024-01-09 00:00:00, there are 2 vehicles that involved in traffic accidents at ENDICOTT STREET \n",
      "On 2024-01-09 00:00:00, there are 2 vehicles that involved in traffic accidents at ENDICOTT STREET \n",
      "On 2024-01-09 00:00:00, there are 2 vehicles that involved in traffic accidents at MILL STREET EXTENSION \n",
      "On 2024-01-09 00:00:00, there are 2 vehicles that involved in traffic accidents at MILL STREET EXTENSION \n",
      "On 2024-01-16 00:00:00, there are 1 vehicles that involved in traffic accidents at INTERSTATE 290 \n"
     ]
    }
   ],
   "source": [
    "with arcpy.da.SearchCursor(feature_class, (\"CRASH_DA_1\", \"NUMB_VEHC\", \"STREETNAME\"),  sql_clause=(None,\"ORDER BY NUMB_VEHC DESC\")) as cursor:\n",
    "    for index, row in enumerate(cursor):\n",
    "        if index < 50:\n",
    "            print('On {}, there are {} vehicles that involved in traffic accidents at {} '.format(row[0], row[1], row[2]))"
   ]
  },
  {
   "cell_type": "markdown",
   "metadata": {},
   "source": [
    "## Exericise: ORDRE BY for data in database\n",
    "\n",
    "1. define the path of shapefile (T2024_Vehicle_Crash) in geodatabase"
   ]
  },
  {
   "cell_type": "code",
   "execution_count": 39,
   "metadata": {},
   "outputs": [
    {
     "name": "stdout",
     "output_type": "stream",
     "text": [
      "On 2024-06-10 00:00:00, there are 10 vehicles that involved in traffic accidents at INTERSTATE 290 \n",
      "On 2024-06-10 00:00:00, there are 10 vehicles that involved in traffic accidents at INTERSTATE 290 \n",
      "On 2024-06-10 00:00:00, there are 10 vehicles that involved in traffic accidents at INTERSTATE 290 \n",
      "On 2024-06-10 00:00:00, there are 10 vehicles that involved in traffic accidents at INTERSTATE 290 \n",
      "On 2024-06-10 00:00:00, there are 10 vehicles that involved in traffic accidents at INTERSTATE 290 \n",
      "On 2024-06-10 00:00:00, there are 10 vehicles that involved in traffic accidents at INTERSTATE 290 \n",
      "On 2024-06-10 00:00:00, there are 10 vehicles that involved in traffic accidents at INTERSTATE 290 \n",
      "On 2024-06-10 00:00:00, there are 10 vehicles that involved in traffic accidents at INTERSTATE 290 \n",
      "On 2024-06-10 00:00:00, there are 10 vehicles that involved in traffic accidents at INTERSTATE 290 \n",
      "On 2024-06-10 00:00:00, there are 10 vehicles that involved in traffic accidents at INTERSTATE 290 \n",
      "On 2024-01-28 00:00:00, there are 5 vehicles that involved in traffic accidents at MERRIFIELD STREET \n",
      "On 2024-01-28 00:00:00, there are 5 vehicles that involved in traffic accidents at MERRIFIELD STREET \n",
      "On 2024-01-28 00:00:00, there are 5 vehicles that involved in traffic accidents at MERRIFIELD STREET \n",
      "On 2024-01-28 00:00:00, there are 5 vehicles that involved in traffic accidents at MERRIFIELD STREET \n",
      "On 2024-01-28 00:00:00, there are 5 vehicles that involved in traffic accidents at MERRIFIELD STREET \n",
      "On 2024-05-17 00:00:00, there are 5 vehicles that involved in traffic accidents at INTERSTATE 290 \n",
      "On 2024-05-17 00:00:00, there are 5 vehicles that involved in traffic accidents at INTERSTATE 290 \n",
      "On 2024-05-17 00:00:00, there are 5 vehicles that involved in traffic accidents at INTERSTATE 290 \n",
      "On 2024-05-17 00:00:00, there are 5 vehicles that involved in traffic accidents at INTERSTATE 290 \n",
      "On 2024-05-17 00:00:00, there are 5 vehicles that involved in traffic accidents at INTERSTATE 290 \n",
      "On 2024-03-10 00:00:00, there are 5 vehicles that involved in traffic accidents at PROVIDENCE STREET \n",
      "On 2024-03-10 00:00:00, there are 5 vehicles that involved in traffic accidents at PROVIDENCE STREET \n",
      "On 2024-03-10 00:00:00, there are 5 vehicles that involved in traffic accidents at PROVIDENCE STREET \n",
      "On 2024-03-10 00:00:00, there are 5 vehicles that involved in traffic accidents at PROVIDENCE STREET \n",
      "On 2024-03-10 00:00:00, there are 5 vehicles that involved in traffic accidents at PROVIDENCE STREET \n",
      "On 2024-06-27 00:00:00, there are 5 vehicles that involved in traffic accidents at INTERSTATE 290 \n",
      "On 2024-06-27 00:00:00, there are 5 vehicles that involved in traffic accidents at INTERSTATE 290 \n",
      "On 2024-06-27 00:00:00, there are 5 vehicles that involved in traffic accidents at INTERSTATE 290 \n",
      "On 2024-06-27 00:00:00, there are 5 vehicles that involved in traffic accidents at INTERSTATE 290 \n",
      "On 2024-06-27 00:00:00, there are 5 vehicles that involved in traffic accidents at INTERSTATE 290 \n",
      "On 2024-06-19 00:00:00, there are 5 vehicles that involved in traffic accidents at COMMONWEALTH AVENUE \n",
      "On 2024-06-19 00:00:00, there are 5 vehicles that involved in traffic accidents at COMMONWEALTH AVENUE \n",
      "On 2024-06-19 00:00:00, there are 5 vehicles that involved in traffic accidents at COMMONWEALTH AVENUE \n",
      "On 2024-06-19 00:00:00, there are 5 vehicles that involved in traffic accidents at COMMONWEALTH AVENUE \n",
      "On 2024-06-19 00:00:00, there are 5 vehicles that involved in traffic accidents at COMMONWEALTH AVENUE \n",
      "On 2024-07-25 00:00:00, there are 5 vehicles that involved in traffic accidents at INTERSTATE 290 \n",
      "On 2024-07-25 00:00:00, there are 5 vehicles that involved in traffic accidents at INTERSTATE 290 \n",
      "On 2024-07-25 00:00:00, there are 5 vehicles that involved in traffic accidents at INTERSTATE 290 \n",
      "On 2024-07-25 00:00:00, there are 5 vehicles that involved in traffic accidents at INTERSTATE 290 \n",
      "On 2024-07-25 00:00:00, there are 5 vehicles that involved in traffic accidents at INTERSTATE 290 \n",
      "On 2024-01-04 00:00:00, there are 4 vehicles that involved in traffic accidents at INTERSTATE 290 \n",
      "On 2024-01-04 00:00:00, there are 4 vehicles that involved in traffic accidents at INTERSTATE 290 \n",
      "On 2024-01-04 00:00:00, there are 4 vehicles that involved in traffic accidents at INTERSTATE 290 \n",
      "On 2024-01-04 00:00:00, there are 4 vehicles that involved in traffic accidents at INTERSTATE 290 \n",
      "On 2024-01-12 00:00:00, there are 4 vehicles that involved in traffic accidents at   \n",
      "On 2024-01-12 00:00:00, there are 4 vehicles that involved in traffic accidents at   \n",
      "On 2024-01-12 00:00:00, there are 4 vehicles that involved in traffic accidents at   \n",
      "On 2024-01-12 00:00:00, there are 4 vehicles that involved in traffic accidents at   \n",
      "On 2024-01-01 00:00:00, there are 4 vehicles that involved in traffic accidents at FLORENCE STREET \n",
      "On 2024-01-01 00:00:00, there are 4 vehicles that involved in traffic accidents at FLORENCE STREET \n"
     ]
    }
   ],
   "source": [
    "feature_class_gdb = 'E:\\Clark\\Spring2025\\Github_Courses\\LargeFiles_geog386\\docs\\Lectures\\Week05_arcpy\\zip_MA\\ZIP_ma.gdb\\T2024_Vehicle_Crash'\n",
    "with arcpy.da.SearchCursor(feature_class_gdb, (\"CRASH_DA_1\", \"NUMB_VEHC\", \"STREETNAME\"),  sql_clause=(None,\"ORDER BY NUMB_VEHC DESC\")) as cursor:\n",
    "    for index, row in enumerate(cursor):\n",
    "        if index < 50:\n",
    "            print('On {}, there are {} vehicles that involved in traffic accidents at {} '.format(row[0], row[1], row[2]))"
   ]
  },
  {
   "cell_type": "markdown",
   "metadata": {},
   "source": [
    "### Exercise 1: Sort value based on Two Columns\n",
    "\n",
    "Sorts the feature_class_gdb by:\n",
    "\n",
    "First, Number of vehicles involved (NUMB_VEHC) in descending order\n",
    "Second, Crash date (CRASH_DA_1) in ascending order (most recent first)"
   ]
  },
  {
   "cell_type": "code",
   "execution_count": 40,
   "metadata": {},
   "outputs": [
    {
     "name": "stdout",
     "output_type": "stream",
     "text": [
      "On 2024-06-10 00:00:00, there are 10 vehicles that involved in traffic accidents at INTERSTATE 290 \n",
      "On 2024-06-10 00:00:00, there are 10 vehicles that involved in traffic accidents at INTERSTATE 290 \n",
      "On 2024-06-10 00:00:00, there are 10 vehicles that involved in traffic accidents at INTERSTATE 290 \n",
      "On 2024-06-10 00:00:00, there are 10 vehicles that involved in traffic accidents at INTERSTATE 290 \n",
      "On 2024-06-10 00:00:00, there are 10 vehicles that involved in traffic accidents at INTERSTATE 290 \n",
      "On 2024-06-10 00:00:00, there are 10 vehicles that involved in traffic accidents at INTERSTATE 290 \n",
      "On 2024-06-10 00:00:00, there are 10 vehicles that involved in traffic accidents at INTERSTATE 290 \n",
      "On 2024-06-10 00:00:00, there are 10 vehicles that involved in traffic accidents at INTERSTATE 290 \n",
      "On 2024-06-10 00:00:00, there are 10 vehicles that involved in traffic accidents at INTERSTATE 290 \n",
      "On 2024-06-10 00:00:00, there are 10 vehicles that involved in traffic accidents at INTERSTATE 290 \n",
      "On 2024-01-28 00:00:00, there are 5 vehicles that involved in traffic accidents at MERRIFIELD STREET \n",
      "On 2024-01-28 00:00:00, there are 5 vehicles that involved in traffic accidents at MERRIFIELD STREET \n",
      "On 2024-01-28 00:00:00, there are 5 vehicles that involved in traffic accidents at MERRIFIELD STREET \n",
      "On 2024-01-28 00:00:00, there are 5 vehicles that involved in traffic accidents at MERRIFIELD STREET \n",
      "On 2024-01-28 00:00:00, there are 5 vehicles that involved in traffic accidents at MERRIFIELD STREET \n",
      "On 2024-03-10 00:00:00, there are 5 vehicles that involved in traffic accidents at PROVIDENCE STREET \n",
      "On 2024-03-10 00:00:00, there are 5 vehicles that involved in traffic accidents at PROVIDENCE STREET \n",
      "On 2024-03-10 00:00:00, there are 5 vehicles that involved in traffic accidents at PROVIDENCE STREET \n",
      "On 2024-03-10 00:00:00, there are 5 vehicles that involved in traffic accidents at PROVIDENCE STREET \n",
      "On 2024-03-10 00:00:00, there are 5 vehicles that involved in traffic accidents at PROVIDENCE STREET \n",
      "On 2024-05-17 00:00:00, there are 5 vehicles that involved in traffic accidents at INTERSTATE 290 \n",
      "On 2024-05-17 00:00:00, there are 5 vehicles that involved in traffic accidents at INTERSTATE 290 \n",
      "On 2024-05-17 00:00:00, there are 5 vehicles that involved in traffic accidents at INTERSTATE 290 \n",
      "On 2024-05-17 00:00:00, there are 5 vehicles that involved in traffic accidents at INTERSTATE 290 \n",
      "On 2024-05-17 00:00:00, there are 5 vehicles that involved in traffic accidents at INTERSTATE 290 \n",
      "On 2024-06-19 00:00:00, there are 5 vehicles that involved in traffic accidents at COMMONWEALTH AVENUE \n",
      "On 2024-06-19 00:00:00, there are 5 vehicles that involved in traffic accidents at COMMONWEALTH AVENUE \n",
      "On 2024-06-19 00:00:00, there are 5 vehicles that involved in traffic accidents at COMMONWEALTH AVENUE \n",
      "On 2024-06-19 00:00:00, there are 5 vehicles that involved in traffic accidents at COMMONWEALTH AVENUE \n",
      "On 2024-06-19 00:00:00, there are 5 vehicles that involved in traffic accidents at COMMONWEALTH AVENUE \n"
     ]
    }
   ],
   "source": [
    "with arcpy.da.SearchCursor(feature_class_gdb, (\"CRASH_DA_1\", \"NUMB_VEHC\", \"STREETNAME\"),  sql_clause=(None, 'ORDER BY NUMB_VEHC DESC, CRASH_DA_1 ASC')) as cursor:\n",
    "    for index, row in enumerate(cursor):\n",
    "        if index < 30:\n",
    "            print('On {}, there are {} vehicles that involved in traffic accidents at {} '.format(row[0], row[1], row[2]))"
   ]
  },
  {
   "cell_type": "markdown",
   "metadata": {},
   "source": [
    "## UpdateCursor"
   ]
  },
  {
   "cell_type": "code",
   "execution_count": 152,
   "metadata": {},
   "outputs": [],
   "source": [
    "feature_class = \"2024_Vehicle_Crash\"\n",
    "\n",
    "new_field_name = 'surface'\n",
    "field_type = 'TEXT'\n",
    "arcpy.AddField_management(feature_class, new_field_name, field_type)\n",
    "\n",
    "fields_update = ['ROAD_SURF_', new_field_name]\n",
    "\n",
    "# Create update cursor for feature class \n",
    "with arcpy.da.UpdateCursor(feature_class, fields_update) as cursor:\n",
    "    for row in cursor:\n",
    "        if row[0] is not None and row[0] in ['Other', 'Unknown']:\n",
    "            row[1] = 'Other'l\n",
    "        else:\n",
    "            row[1] = 'Source'\n",
    "\n",
    "        # Update the cursor with the updated list\n",
    "        cursor.updateRow(row)"
   ]
  },
  {
   "cell_type": "markdown",
   "metadata": {},
   "source": [
    "## InsertCursor"
   ]
  },
  {
   "cell_type": "markdown",
   "metadata": {},
   "source": [
    "### InsertCursor(): Inserting Rows with InsertCursor"
   ]
  },
  {
   "cell_type": "markdown",
   "metadata": {},
   "source": [
    "#### check the number of columns and rows"
   ]
  },
  {
   "cell_type": "code",
   "execution_count": 116,
   "metadata": {},
   "outputs": [
    {
     "name": "stdout",
     "output_type": "stream",
     "text": [
      "columns: 151\n",
      "rows: 6802\n"
     ]
    }
   ],
   "source": [
    "feature_class = \"2024_Vehicle_Crash\"\n",
    "desc = arcpy.Describe(feature_class)\n",
    "\n",
    "# Get the number of fields (columns)\n",
    "num_columns = len(desc.fields)\n",
    "\n",
    "# Get the number of rows\n",
    "with arcpy.da.SearchCursor(feature_class, \"*\") as cursor:\n",
    "    num_rows = sum(1 for rows in cursor)\n",
    "    \n",
    "print('columns: {}'.format(num_columns))\n",
    "print('rows: {}'.format(num_rows))"
   ]
  },
  {
   "cell_type": "code",
   "execution_count": 122,
   "metadata": {},
   "outputs": [],
   "source": [
    "feature_class = \"2024_Vehicle_Crash\"\n",
    "fields = [\"STREETNAME\", \"DRIVER_AGE\", 'SHAPE'] \n",
    "\n",
    "points_data = [{'STREETNAME': 'Main Street', 'DRIVER_AGE': '50', 'SHAPE': (-71.791180, 42.249540)}]"
   ]
  },
  {
   "cell_type": "markdown",
   "metadata": {},
   "source": [
    "### Step 1: Create Point\n",
    "\n",
    "The * (asterisk) unpacks the tuple (-71.791180, 42.249540), passing its values as separate arguments.\n",
    "\n",
    "Equivalent to: \n",
    "\n",
    "point = arcpy.Point(-71.791180, 42.249540)"
   ]
  },
  {
   "cell_type": "code",
   "execution_count": 125,
   "metadata": {},
   "outputs": [],
   "source": [
    "point = arcpy.Point(*points_data[0]['SHAPE'])  # Unpack coordinates\n",
    "# point_geometry = arcpy.PointGeometry(point)"
   ]
  },
  {
   "cell_type": "markdown",
   "metadata": {},
   "source": [
    "## Step 2: Define projection"
   ]
  },
  {
   "cell_type": "code",
   "execution_count": 126,
   "metadata": {},
   "outputs": [],
   "source": [
    "point_geometry = arcpy.PointGeometry(point, arcpy.SpatialReference(4326))  # Initial SR: WGS 84\n",
    "\n",
    "# Project the point geometry to the desired coordinate system\n",
    "# Define the coordinate system for projection (WKID 26986)\n",
    "spatial_reference = arcpy.SpatialReference(26986)  # NAD83 / UTM Zone 18N\n",
    "\n",
    "projected_geometry = point_geometry.projectAs(spatial_reference)"
   ]
  },
  {
   "cell_type": "code",
   "execution_count": 127,
   "metadata": {},
   "outputs": [
    {
     "data": {
      "image/svg+xml": [
       "<svg xmlns=\"http://www.w3.org/2000/svg\" xmlns:xlink=\"http://www.w3.org/1999/xlink\" width=\"100.0\" height=\"100.0\" viewBox=\"175969.9534725231 888825.2342602704 2.0 2.0\" preserveAspectRatio=\"xMinYMin meet\"><g transform=\"matrix(1,0,0,-1,0,1777652.4685205407)\"><circle cx=\"175970.9534725231\" cy=\"888826.2342602704\" r=\"0.06\" stroke=\"#555555\" stroke-width=\"0.02\" fill=\"#66cc99\" opacity=\"0.6\" /></g></svg>"
      ],
      "text/plain": [
       "<PointGeometry object at 0x257e8f79110[0x2572f9252c0]>"
      ]
     },
     "execution_count": 127,
     "metadata": {},
     "output_type": "execute_result"
    }
   ],
   "source": [
    "projected_geometry"
   ]
  },
  {
   "cell_type": "markdown",
   "metadata": {},
   "source": [
    "## Step 3: Add new point to feature class"
   ]
  },
  {
   "cell_type": "code",
   "execution_count": 128,
   "metadata": {},
   "outputs": [],
   "source": [
    "# Use InsertCursor to insert new rows\n",
    "with arcpy.da.InsertCursor(feature_class, fields) as cursor:\n",
    "    for point_info in points_data:\n",
    "        cursor.insertRow([point_info['STREETNAME'], point_info['DRIVER_AGE'], projected_geometry])"
   ]
  }
 ],
 "metadata": {
  "kernelspec": {
   "display_name": "arcgispro-py3",
   "language": "python",
   "name": "python3"
  },
  "language_info": {
   "codemirror_mode": {
    "name": "ipython",
    "version": 3
   },
   "file_extension": ".py",
   "mimetype": "text/x-python",
   "name": "python",
   "nbconvert_exporter": "python",
   "pygments_lexer": "ipython3",
   "version": "3.11.10"
  }
 },
 "nbformat": 4,
 "nbformat_minor": 4
}
