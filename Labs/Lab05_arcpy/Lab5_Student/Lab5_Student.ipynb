{
 "cells": [
  {
   "cell_type": "markdown",
   "metadata": {},
   "source": [
    "<h3 style=\"text-align: center;\">Lab 05: Arcpy</h3>\n",
    "\n",
    "- This lab covers the Arcpy, including topics such as SearchCursor, UpdateCursor and InsertCursor. \n",
    "\n",
    "- There are four questions in total. Please provide your code answers directly below each question.\n",
    "\n",
    "- Make sure to run all cells so that the answers are stored. Once completed, submit the .ipynb file (**ensuring that all answers are included**) to Canvas by **midnight (11:29 PM) on March 10**.\n",
    "\n",
    "- This lab is worth a total of **80 points** and contributes **8%** toward the final grade."
   ]
  },
  {
   "cell_type": "markdown",
   "metadata": {},
   "source": [
    "### 1. SearchCursor (20 points)\n",
    "\n",
    "Use sedf and groupby() to analyze '2024_Vehicle_Crash', grouping by weather conditions (WEATH_COND) to determine the number of accidents under different weather conditions."
   ]
  },
  {
   "cell_type": "code",
   "execution_count": 5,
   "metadata": {},
   "outputs": [],
   "source": [
    "import pandas as pd\n",
    "import arcpy\n",
    "from arcgis.features import GeoAccessor"
   ]
  },
  {
   "cell_type": "markdown",
   "metadata": {},
   "source": [
    "### 2. Insert below new data using InsertCursor (30 points)\n",
    "- Using InsertCursor to add 'points_data' to the '2024_Vehicle_Crash'"
   ]
  },
  {
   "cell_type": "code",
   "execution_count": null,
   "metadata": {},
   "outputs": [],
   "source": [
    "points_data = [{'CRASH_SEVE': 'Non-fatal injury', 'NUMB_VEHC': 1, 'SHAPE': (-71.791180, 42.249540)},\n",
    "           {'CRASH_SEVE': 'Unknown', 'NUMB_VEHC': 0, 'SHAPE': (-71.811697, 42.257009)},\n",
    "           {'CRASH_SEVE': 'Non-fatal injury', 'NUMB_VEHC': 2, 'SHAPE': ( -71.772558, 42.258216)},]"
   ]
  },
  {
   "cell_type": "markdown",
   "metadata": {},
   "source": [
    "### 3. Update  \"Vehicle_Crash_insert\" using UpdateCursor (20 points)\n",
    "- Add a new field named 'NUM_Class' of type 'Text' to '2024_Vehicle_Crash'.\n",
    "- Update Values:\n",
    "    - If 'NUMB_VEHC' is greater than or equal to 3, update the 'NUM_Class' to 'More'.\n",
    "    - If 'NUMB_VEHC' is less than 3, update 'NUM_Class' to 'Less'."
   ]
  },
  {
   "cell_type": "markdown",
   "metadata": {},
   "source": [
    "### 4. Statistics (10 points)\n",
    "\n",
    "Using the shapefile: 2024_Vehicle_Crash, analyze the distribution of vehicle types involved in crashes.\n",
    "\n",
    "Each record in the dataset includes a field NUM_Class (created in Task 3), which classifies the type of vehicle involved in the crash into two categories:\n",
    "\n",
    "\"More\" and \"Less\".\n",
    "\n",
    "Your goal is to:\n",
    "\n",
    "1. Count the number of crashes involving each type of NUM_Class.\n",
    "2. Calculate the proportion of each vehicle class relative to the total number of crashes.\n",
    "\n",
    "You can use arcpy.da.SearchCursor to iterate through the dataset or use the groupby function for spatially enabled DataFrame (sedf) to perform the same analysis.\n"
   ]
  }
 ],
 "metadata": {
  "kernelspec": {
   "display_name": "ArcGISPro",
   "language": "python",
   "name": "python3"
  },
  "language_info": {
   "file_extension": ".py",
   "mimetype": "text/x-python",
   "name": "python",
   "version": "3.11.10"
  }
 },
 "nbformat": 4,
 "nbformat_minor": 4
}
