{
 "cells": [
  {
   "cell_type": "code",
   "execution_count": 2,
   "metadata": {},
   "outputs": [
    {
     "name": "stdout",
     "output_type": "stream",
     "text": [
      "Error: division by zero\n",
      "None\n"
     ]
    }
   ],
   "source": [
    "def safe_divide(a, b,lst = [1,2,3]):\n",
    "    try:\n",
    "        return a / b\n",
    "    except Exception as e:\n",
    "        print(f\"Error: {e}\")\n",
    "        return None  # Return a default value\n",
    "\n",
    "result = safe_divide(5, 0)\n",
    "print(result) "
   ]
  },
  {
   "cell_type": "code",
   "execution_count": 3,
   "metadata": {},
   "outputs": [
    {
     "name": "stdout",
     "output_type": "stream",
     "text": [
      "An unexpected error occurred: invalid literal for int() with base 10: 'abc'\n"
     ]
    }
   ],
   "source": [
    "def handle_multiple():\n",
    "    try:\n",
    "        num = int(\"abc\")  # ValueError\n",
    "    except Exception as e:  # Catch any other exception\n",
    "        print(f\"An unexpected error occurred: {e}\")\n",
    "\n",
    "handle_multiple()"
   ]
  },
  {
   "cell_type": "code",
   "execution_count": 4,
   "metadata": {},
   "outputs": [
    {
     "name": "stdout",
     "output_type": "stream",
     "text": [
      "'list' object is not callable\n"
     ]
    }
   ],
   "source": [
    "def get_num(idx):\n",
    "    try:\n",
    "        get_list = [1,2,3]\n",
    "        get_list(idx)\n",
    "    except Exception as e:\n",
    "        print(e)\n",
    "\n",
    "get_num(idx = 5)"
   ]
  }
 ],
 "metadata": {
  "kernelspec": {
   "display_name": "base",
   "language": "python",
   "name": "python3"
  },
  "language_info": {
   "codemirror_mode": {
    "name": "ipython",
    "version": 3
   },
   "file_extension": ".py",
   "mimetype": "text/x-python",
   "name": "python",
   "nbconvert_exporter": "python",
   "pygments_lexer": "ipython3",
   "version": "3.12.4"
  }
 },
 "nbformat": 4,
 "nbformat_minor": 2
}
