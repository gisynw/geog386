{
 "cells": [
  {
   "cell_type": "markdown",
   "metadata": {},
   "source": [
    "## Using ArcPy Outside of ArcGIS Pro"
   ]
  },
  {
   "cell_type": "markdown",
   "metadata": {},
   "source": [
    "ArcPy is a Python site package that provides a set of tools for geographic data analysis and automation. While it's integrated into ArcGIS Pro, you can also use it outside of ArcGIS Pro by configuring the Python environment properly."
   ]
  },
  {
   "cell_type": "markdown",
   "metadata": {},
   "source": [
    "### Step 1: Find the ArcGIS Python Environment"
   ]
  },
  {
   "cell_type": "markdown",
   "metadata": {},
   "source": [
    "Locate the path of the default ArcGIS Python environment (typically: C:\\Program Files\\ArcGIS\\Pro\\bin\\Python\\envs\\arcgispro-py3)."
   ]
  },
  {
   "cell_type": "markdown",
   "metadata": {},
   "source": [
    "### Step 2: Activate the Environment\n",
    "\n",
    "Go to the anaconda virtual environment folder\n",
    "\n",
    "Copy the arcgisori-py3 to the anaconda virtual environment folder"
   ]
  }
 ],
 "metadata": {
  "language_info": {
   "name": "python"
  }
 },
 "nbformat": 4,
 "nbformat_minor": 2
}
