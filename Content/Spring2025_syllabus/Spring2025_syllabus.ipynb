{
 "cells": [
  {
   "cell_type": "markdown",
   "metadata": {},
   "source": [
    "<iframe src=\"https://gisynw.github.io/geog386/Content/GEOG286_386_Spring2025.pdf\" width=\"120%\" height=\"800\"></iframe>\n"
   ]
  },
  {
   "cell_type": "markdown",
   "metadata": {},
   "source": []
  }
 ],
 "metadata": {
  "language_info": {
   "name": "python"
  }
 },
 "nbformat": 4,
 "nbformat_minor": 2
}
