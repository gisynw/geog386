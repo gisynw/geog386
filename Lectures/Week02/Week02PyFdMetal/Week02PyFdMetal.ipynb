{
 "cells": [
  {
   "cell_type": "markdown",
   "metadata": {},
   "source": [
    "<a href=\"https://colab.research.google.com/github/gisynw/ssj-386/blob/main/docs/Lectures/Week02/Week02PyFdMetal.ipynb\" target=\"_blank\">\n",
    "  <img src=\"https://colab.research.google.com/assets/colab-badge.svg\" alt=\"Open in Colab\" style=\"height: 30px;\"/>\n",
    "</a>\n",
    "\n",
    "<a href=\"./Week02PyFdMetal.ipynb\" target=\"_blank\"> \n",
    "  <img src=\"https://img.icons8.com/?size=100&id=108635&format=png&color=000000\" alt=\"Download\" style=\"height: 40px;\"/>\n",
    " </a>"
   ]
  },
  {
   "cell_type": "markdown",
   "metadata": {},
   "source": [
    "<center>\n",
    "    <h2 style=\"color:  #526cfe; font-family: Arial, sans-serif; font-size: 32px; padding: 10px;\">\n",
    "        Week 2: Python Fundamental Part 1\n",
    "    </h2>\n",
    "</center>"
   ]
  },
  {
   "cell_type": "markdown",
   "metadata": {},
   "source": [
    "<a id='Var'></a>\n",
    "### 1. Variables\n",
    "Variable in Python store data values\n",
    "\n",
    "`print()` is a built-in function in python"
   ]
  },
  {
   "cell_type": "code",
   "execution_count": null,
   "metadata": {},
   "outputs": [],
   "source": [
    "x = 'summer'\n",
    "print(x)"
   ]
  },
  {
   "cell_type": "markdown",
   "metadata": {},
   "source": [
    "### 2. Numeirc\n",
    "#### 2.1 Integer\n",
    "we can use the **built-in** `type()` **function** to identify the type of variable"
   ]
  },
  {
   "cell_type": "code",
   "execution_count": null,
   "metadata": {},
   "outputs": [],
   "source": [
    "a = 3\n",
    "type(3)"
   ]
  },
  {
   "cell_type": "markdown",
   "metadata": {},
   "source": [
    "#### 2.2. float"
   ]
  },
  {
   "cell_type": "code",
   "execution_count": null,
   "metadata": {},
   "outputs": [],
   "source": [
    "c = 6.3\n",
    "type(c)"
   ]
  },
  {
   "cell_type": "markdown",
   "metadata": {},
   "source": [
    "#### 2.3 Python Arithmetic Operators\n",
    "The common mathematical operations can be completed by aritemetic operatos in Python\n",
    "\n",
    "[Python Arithmetic Operators](https://www.w3schools.com/python/gloss_python_arithmetic_operators.asp)"
   ]
  },
  {
   "cell_type": "code",
   "execution_count": null,
   "metadata": {},
   "outputs": [],
   "source": [
    "3 + 5"
   ]
  },
  {
   "cell_type": "code",
   "execution_count": null,
   "metadata": {},
   "outputs": [],
   "source": [
    "8/4"
   ]
  },
  {
   "cell_type": "markdown",
   "metadata": {},
   "source": [
    "### 3. Strings\n",
    "Strings in python are surrounded by either double quotation marks, or single quotation marks"
   ]
  },
  {
   "cell_type": "code",
   "execution_count": null,
   "metadata": {},
   "outputs": [],
   "source": [
    "print(\"Hello\")\n",
    "print('Hello')"
   ]
  },
  {
   "cell_type": "code",
   "execution_count": null,
   "metadata": {},
   "outputs": [],
   "source": [
    "strs_ex = \"It's an apple\"\n",
    "\n",
    "print(type(strs_ex))\n",
    "print(len(strs_ex))"
   ]
  },
  {
   "cell_type": "markdown",
   "metadata": {},
   "source": [
    "A number with quotation or without quotation is different"
   ]
  },
  {
   "cell_type": "code",
   "execution_count": null,
   "metadata": {},
   "outputs": [],
   "source": [
    "num = 3\n",
    "str_3 = '3'\n",
    "print(type(num))\n",
    "print(type(str_3))"
   ]
  },
  {
   "cell_type": "markdown",
   "metadata": {},
   "source": [
    "#### 3.1 Slicing strings"
   ]
  },
  {
   "cell_type": "code",
   "execution_count": null,
   "metadata": {},
   "outputs": [],
   "source": [
    "# Slicing: Return a range of characters by using the slice syntax\n",
    "x = \"Clark is pretty good\"\n",
    "print(len(x))\n",
    "print(x[1:3])"
   ]
  },
  {
   "cell_type": "code",
   "execution_count": null,
   "metadata": {},
   "outputs": [],
   "source": [
    "# Slice from the start\n",
    "b = \"Hello, Python!\"\n",
    "print(b[:5])\n",
    "\n",
    "# Slice to the end\n",
    "print(b[2:])\n",
    "\n",
    "# Negative indexing\n",
    "print(b[-5:-2])"
   ]
  },
  {
   "cell_type": "markdown",
   "metadata": {},
   "source": [
    "<h3 style=\"text-align: center;\">Exercise 1: Get the characters from string</h3>\n",
    "1. Get the character that index is 0 in x = \"Clark is pretty good\""
   ]
  },
  {
   "cell_type": "markdown",
   "metadata": {},
   "source": [
    "#### 3.2 String Concatenation"
   ]
  },
  {
   "cell_type": "code",
   "execution_count": null,
   "metadata": {},
   "outputs": [],
   "source": [
    "a = \"Level\"\n",
    "b = \"Up\"\n",
    "c = a + b\n",
    "print(c)\n",
    "d = a + ' ' + b\n",
    "print(d)"
   ]
  },
  {
   "cell_type": "markdown",
   "metadata": {},
   "source": [
    "#### 3.3 Combine of string and number"
   ]
  },
  {
   "cell_type": "code",
   "execution_count": null,
   "metadata": {},
   "outputs": [],
   "source": [
    "age = 36\n",
    "txt = \"My name is John, I am \" + age\n",
    "print(txt)"
   ]
  },
  {
   "cell_type": "markdown",
   "metadata": {},
   "source": [
    "<h3 style=\"text-align: center;\">Exercise 2: Type conversion</h3>\n",
    "\n",
    "1. We have used built-in function like `print()` and `type()` to do task, this time we use `str()` to convert a value to string \n",
    "2. Use `str()` function to remove the error"
   ]
  },
  {
   "cell_type": "code",
   "execution_count": null,
   "metadata": {},
   "outputs": [],
   "source": [
    "# F-Strings\n",
    "age = 5\n",
    "txt = f\"I have lived here for {age} years\"\n",
    "print(txt)"
   ]
  },
  {
   "cell_type": "markdown",
   "metadata": {},
   "source": [
    "#### 3.4 Methods for String\n",
    "A **method** is a special type of function, it allow you to do different things with different objects.\n",
    "\n",
    "We can use methods through **dot notation**: `variable.method()`"
   ]
  },
  {
   "cell_type": "code",
   "execution_count": null,
   "metadata": {},
   "outputs": [],
   "source": [
    "names = \"Clark\"\n",
    "u_names = names.upper()\n",
    "print(u_names)"
   ]
  },
  {
   "cell_type": "markdown",
   "metadata": {},
   "source": [
    "[Methods for String in Python Documentation](https://docs.python.org/3/library/stdtypes.html#string-methods)"
   ]
  },
  {
   "cell_type": "markdown",
   "metadata": {},
   "source": [
    "<h3 style=\"text-align: center;\">Exercise 3: Try methods for String</h3>\n",
    "\n",
    "1. get lowercase of string **names = \"Clark'** use `lower()`"
   ]
  },
  {
   "cell_type": "markdown",
   "metadata": {},
   "source": [
    "### 💡 Tip: Guidelines for Variables\n",
    "- Python is case-sensitive (`apple` and `Apple` are two separate variables).\n",
    "- Use meaningful variable names (e.g. `university` is clearer than `a_string`). Ideally, you code and variable names should be meaningful.\n",
    "- Avoid using variable names that conflict with existing python functions or keywords (e.g., `print`, `type`)."
   ]
  },
  {
   "cell_type": "markdown",
   "metadata": {},
   "source": [
    "### 4. Boolean\n",
    "- The expression in Python is True and False"
   ]
  },
  {
   "cell_type": "code",
   "execution_count": null,
   "metadata": {},
   "outputs": [],
   "source": [
    "print(5 > 3)"
   ]
  },
  {
   "cell_type": "markdown",
   "metadata": {},
   "source": [
    "- Most Values are True"
   ]
  },
  {
   "cell_type": "code",
   "execution_count": null,
   "metadata": {},
   "outputs": [],
   "source": [
    "print(bool(\"abc\"))\n",
    "print(bool(123))\n",
    "print(bool([\"apple\", \"cherry\", \"banana\"]))"
   ]
  },
  {
   "cell_type": "markdown",
   "metadata": {},
   "source": [
    "- Empty values are False"
   ]
  },
  {
   "cell_type": "code",
   "execution_count": null,
   "metadata": {},
   "outputs": [],
   "source": [
    "print(bool(False))\n",
    "print(bool(None))\n",
    "print(bool(0))\n",
    "print(bool(\"\"))\n",
    "print(bool(()))\n"
   ]
  },
  {
   "cell_type": "markdown",
   "metadata": {},
   "source": [
    "### 5. List"
   ]
  },
  {
   "cell_type": "code",
   "execution_count": null,
   "metadata": {},
   "outputs": [],
   "source": [
    "myclass = ['python', 'statistics', 'mapping', 'mapping']\n",
    "print(myclass)\n",
    "print(len(myclass))"
   ]
  },
  {
   "cell_type": "code",
   "execution_count": 18,
   "metadata": {},
   "outputs": [],
   "source": [
    "mynote = [\"python\", 10, True, 'mapping', 23]"
   ]
  },
  {
   "cell_type": "markdown",
   "metadata": {},
   "source": [
    "#### 5.1 Change list items"
   ]
  },
  {
   "cell_type": "code",
   "execution_count": 19,
   "metadata": {},
   "outputs": [],
   "source": [
    "grocery_shops = [\"Whole Foods\", \"Trader Joe's\", \"Stop & stop\", \"Kroger\"]\n",
    "grocery_shops[1] = \"Wegmans\""
   ]
  },
  {
   "cell_type": "code",
   "execution_count": null,
   "metadata": {},
   "outputs": [],
   "source": [
    "#### 5.2 Sort the list\n",
    "fruits = ['apple', 'orange', 'blueberries', 'Mangoes']\n",
    "fruits.sort(reverse=False)\n",
    "print(fruits)\n"
   ]
  },
  {
   "cell_type": "markdown",
   "metadata": {},
   "source": [
    "- If you want to sort the list ignoring case sensitivity, you can use the key=str.lower argument:"
   ]
  },
  {
   "cell_type": "markdown",
   "metadata": {},
   "source": [
    "<h3 style=\"text-align: center;\">Exercise 4: Try method for list</h3>\n",
    "\n",
    "1. Append **kroger** to list **grocery_shops = [\"Whole Foods\", \"Trader Joe's\"]** use `append()`"
   ]
  },
  {
   "cell_type": "markdown",
   "metadata": {},
   "source": [
    "### 6 Dictionaries\n",
    "- Dictionaries store data value in key:value pairs\n",
    "- Access value using the key\n",
    "- Dictionaries cannot have two items with the same key:"
   ]
  },
  {
   "cell_type": "code",
   "execution_count": null,
   "metadata": {},
   "outputs": [],
   "source": [
    "university = {\n",
    "  \"name\": \"clark\",\n",
    "  \"location\": 'MA',\n",
    "  \"location\": \"worcester\",\n",
    "  \"year\": 1887,\n",
    "  'major': ['GIS', 'sociology', 'computer science']\n",
    "}\n",
    " \n",
    "print(university['name'])\n",
    "print(university['major'])\n",
    "print(university)"
   ]
  },
  {
   "cell_type": "markdown",
   "metadata": {},
   "source": [
    "<h3 style=\"text-align: center;\">Exercise 5: Key in Dictionary</h3>\n",
    "🤔 Try what will happen if we have two items with the same key?"
   ]
  },
  {
   "cell_type": "markdown",
   "metadata": {},
   "source": [
    "#### 6.1 Adding items"
   ]
  },
  {
   "cell_type": "code",
   "execution_count": null,
   "metadata": {},
   "outputs": [],
   "source": [
    "university['room'] = 'BP310'\n",
    "print(university)"
   ]
  },
  {
   "cell_type": "markdown",
   "metadata": {},
   "source": [
    "#### 6.2 Methods for dictionaries"
   ]
  },
  {
   "cell_type": "code",
   "execution_count": null,
   "metadata": {},
   "outputs": [],
   "source": [
    "university = {\n",
    "  \"name\": \"clark\",\n",
    "  \"location\": \"worcester\",\n",
    "  \"year\": 1887\n",
    "}"
   ]
  },
  {
   "cell_type": "code",
   "execution_count": null,
   "metadata": {},
   "outputs": [],
   "source": [
    "### Get keys\n",
    "key_un = university.keys()\n",
    "key_un"
   ]
  },
  {
   "cell_type": "code",
   "execution_count": 1,
   "metadata": {},
   "outputs": [],
   "source": [
    "### Dictionaries in Dictionaries\n",
    "university = {\n",
    "  \"name\": \"clark\",\n",
    "  \"location\": \"worcester\",\n",
    "  \"year\": 1887, \n",
    "  \"description\": {'student':3827, 'intro':'''Founded in 1887, Clark offers undergraduate and graduate\n",
    "                  programs with a focus on interdisciplinary studies,\n",
    "                  research opportunities, and community engagement'''}}\n"
   ]
  },
  {
   "cell_type": "code",
   "execution_count": null,
   "metadata": {},
   "outputs": [],
   "source": [
    "print(university['description']['intro'])"
   ]
  },
  {
   "cell_type": "markdown",
   "metadata": {},
   "source": [
    "<h3 style=\"text-align: center;\">Exercise 5: Try methods for Dictionaries</h3>\n",
    "\n",
    "1. Use `values()`, `items()` to get value and item from **university**"
   ]
  }
 ],
 "metadata": {
  "kernelspec": {
   "display_name": "base",
   "language": "python",
   "name": "python3"
  },
  "language_info": {
   "codemirror_mode": {
    "name": "ipython",
    "version": 3
   },
   "file_extension": ".py",
   "mimetype": "text/x-python",
   "name": "python",
   "nbconvert_exporter": "python",
   "pygments_lexer": "ipython3",
   "version": "3.7.6"
  }
 },
 "nbformat": 4,
 "nbformat_minor": 2
}
